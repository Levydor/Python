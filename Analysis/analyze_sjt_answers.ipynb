{
 "cells": [
  {
   "cell_type": "code",
   "execution_count": 34,
   "metadata": {},
   "outputs": [
    {
     "data": {
      "text/html": [
       "<style>.container { width:100% !important; }</style>"
      ],
      "text/plain": [
       "<IPython.core.display.HTML object>"
      ]
     },
     "metadata": {},
     "output_type": "display_data"
    }
   ],
   "source": [
    "# load relevant packages, set some display parameters\n",
    "\n",
    "%reset -f\n",
    "\n",
    "from IPython.core.display import display, HTML\n",
    "display(HTML(\"<style>.container { width:100% !important; }</style>\"))\n",
    "\n",
    "import pandas as pd\n",
    "import numpy as np\n",
    "import matplotlib.pyplot as plt\n",
    "%matplotlib inline\n",
    "import time\n",
    "\n",
    "from sklearn import linear_model\n",
    "from sklearn import metrics\n",
    "from sklearn.model_selection import train_test_split, cross_val_score, cross_validate, RepeatedKFold\n",
    "from math import sqrt\n",
    "from scipy import stats\n",
    "from sklearn import preprocessing\n",
    "from sklearn import ensemble\n",
    "from sklearn.pipeline import Pipeline\n",
    "from sklearn.model_selection import GridSearchCV, learning_curve\n",
    "# import ifsg\n",
    "import glob, os #I ADDED\n",
    "from sklearn.svm import SVR, LinearSVR #I ADDED\n",
    "from sklearn.tree import DecisionTreeRegressor #I ADDED\n",
    "import pickle\n",
    "import re\n",
    "import random\n",
    "import os\n",
    "import json\n",
    "import warnings\n",
    "import seaborn as sns\n",
    "import gc\n",
    "from sklearn.decomposition import PCA\n",
    "\n",
    "warnings.filterwarnings(\"ignore\")\n",
    "\n",
    "pd.set_option('display.max_rows', 100)\n",
    "pd.set_option('display.max_columns', 100)\n",
    "pd.set_option('display.width', 1000)\n",
    "\n",
    "#ifsg.__version__"
   ]
  },
  {
   "cell_type": "code",
   "execution_count": 6,
   "metadata": {},
   "outputs": [],
   "source": [
    "# x=os.path.splitext(os.path.split(os.path.splitext(os.path.split(os.getcwd())[0])[0])[0])\n",
    "# path_dataset=str(x[0])+os.sep+\"Data\"+os.sep+ \"Datasets\"\n",
    "\n",
    "# print(path_dataset)\n",
    "#file= 'W:\\\\Work\\\\Assense\\\\ML\\\\japan_sjt_df_07_03_19.json'"
   ]
  },
  {
   "cell_type": "code",
   "execution_count": 36,
   "metadata": {},
   "outputs": [],
   "source": [
    "df = df.dropna(axis=1,how = 'all')"
   ]
  },
  {
   "cell_type": "code",
   "execution_count": 35,
   "metadata": {},
   "outputs": [
    {
     "name": "stdout",
     "output_type": "stream",
     "text": [
      "(115, 91)\n"
     ]
    }
   ],
   "source": [
    "#file = path_dataset+os.sep+\"sjt\"+os.sep+\"SJT1_Heb_Jan19.json\"\n",
    "file = 'W:\\\\Work\\\\Assense\\\\ML\\\\DataFrames\\\\japan_jan_sjt_df.json'\n",
    "with open(file) as train_file:\n",
    "    dict_train = json.load(train_file)\n",
    "\n",
    "# converting json dataset from dictionary to dataframe\n",
    "df = pd.DataFrame.from_dict(dict_train)\n",
    "print(df.shape)\n",
    "#df.head()"
   ]
  },
  {
   "cell_type": "code",
   "execution_count": 44,
   "metadata": {},
   "outputs": [
    {
     "data": {
      "text/html": [
       "<div>\n",
       "<style scoped>\n",
       "    .dataframe tbody tr th:only-of-type {\n",
       "        vertical-align: middle;\n",
       "    }\n",
       "\n",
       "    .dataframe tbody tr th {\n",
       "        vertical-align: top;\n",
       "    }\n",
       "\n",
       "    .dataframe thead th {\n",
       "        text-align: right;\n",
       "    }\n",
       "</style>\n",
       "<table border=\"1\" class=\"dataframe\">\n",
       "  <thead>\n",
       "    <tr style=\"text-align: right;\">\n",
       "      <th></th>\n",
       "      <th>sjt.SJTRoundUserAnswers_teamwork_heb</th>\n",
       "      <th>sjt.SJTRoundUserAnswers_teamwork_jap</th>\n",
       "      <th>sjt.SJTRoundUserAnswers_eq_jap</th>\n",
       "      <th>sjt.SJTRoundUserAnswers_consienciousness_heb</th>\n",
       "      <th>sjt.SJTRoundUserAnswers_empathy_heb</th>\n",
       "      <th>sjt.SJTRoundUserAnswers_consienciousness_jap</th>\n",
       "      <th>sjt.SJTRoundUserAnswers_eq_heb</th>\n",
       "      <th>sjt.SJTRoundUserAnswers_knowledge_of_norms_heb</th>\n",
       "      <th>sjt.SJTRoundUserAnswers_collegial_behavior_jap</th>\n",
       "      <th>sjt.SJTRoundUserAnswers_knowledge_of_norms_jap</th>\n",
       "      <th>sjt.SJTRoundUserAnswers_empathy_jap</th>\n",
       "      <th>sjt.SJTRoundUserAnswers_collegial_behavior_heb</th>\n",
       "    </tr>\n",
       "  </thead>\n",
       "  <tbody>\n",
       "    <tr>\n",
       "      <th>5C34B4463DDA6707662C0BE9</th>\n",
       "      <td>NaN</td>\n",
       "      <td>NaN</td>\n",
       "      <td>3.875</td>\n",
       "      <td>4.863636</td>\n",
       "      <td>1.833333</td>\n",
       "      <td>4.541667</td>\n",
       "      <td>4.125</td>\n",
       "      <td>3.241379</td>\n",
       "      <td>4.4375</td>\n",
       "      <td>4.648649</td>\n",
       "      <td>1.833333</td>\n",
       "      <td>4.928571</td>\n",
       "    </tr>\n",
       "    <tr>\n",
       "      <th>5C3554E43DDA6707662C0BEC</th>\n",
       "      <td>NaN</td>\n",
       "      <td>NaN</td>\n",
       "      <td>NaN</td>\n",
       "      <td>NaN</td>\n",
       "      <td>NaN</td>\n",
       "      <td>NaN</td>\n",
       "      <td>NaN</td>\n",
       "      <td>NaN</td>\n",
       "      <td>NaN</td>\n",
       "      <td>NaN</td>\n",
       "      <td>NaN</td>\n",
       "      <td>NaN</td>\n",
       "    </tr>\n",
       "    <tr>\n",
       "      <th>5C36FEEBB5997B32B4CEAA9C</th>\n",
       "      <td>NaN</td>\n",
       "      <td>NaN</td>\n",
       "      <td>4.500</td>\n",
       "      <td>4.409091</td>\n",
       "      <td>2.875000</td>\n",
       "      <td>3.916667</td>\n",
       "      <td>4.875</td>\n",
       "      <td>4.275862</td>\n",
       "      <td>4.4375</td>\n",
       "      <td>4.648649</td>\n",
       "      <td>2.458333</td>\n",
       "      <td>4.928571</td>\n",
       "    </tr>\n",
       "    <tr>\n",
       "      <th>5C370638B5997B32B4CEAA9D</th>\n",
       "      <td>NaN</td>\n",
       "      <td>NaN</td>\n",
       "      <td>3.625</td>\n",
       "      <td>3.500000</td>\n",
       "      <td>3.291667</td>\n",
       "      <td>4.125000</td>\n",
       "      <td>3.500</td>\n",
       "      <td>3.758621</td>\n",
       "      <td>4.4375</td>\n",
       "      <td>4.918919</td>\n",
       "      <td>3.291667</td>\n",
       "      <td>4.928571</td>\n",
       "    </tr>\n",
       "    <tr>\n",
       "      <th>5C3706BFB5997B32B4CEAA9E</th>\n",
       "      <td>NaN</td>\n",
       "      <td>NaN</td>\n",
       "      <td>3.875</td>\n",
       "      <td>2.590909</td>\n",
       "      <td>3.291667</td>\n",
       "      <td>2.875000</td>\n",
       "      <td>3.375</td>\n",
       "      <td>2.896552</td>\n",
       "      <td>4.4375</td>\n",
       "      <td>4.378378</td>\n",
       "      <td>2.666667</td>\n",
       "      <td>4.928571</td>\n",
       "    </tr>\n",
       "  </tbody>\n",
       "</table>\n",
       "</div>"
      ],
      "text/plain": [
       "                          sjt.SJTRoundUserAnswers_teamwork_heb  sjt.SJTRoundUserAnswers_teamwork_jap  sjt.SJTRoundUserAnswers_eq_jap  sjt.SJTRoundUserAnswers_consienciousness_heb  sjt.SJTRoundUserAnswers_empathy_heb  sjt.SJTRoundUserAnswers_consienciousness_jap  sjt.SJTRoundUserAnswers_eq_heb  sjt.SJTRoundUserAnswers_knowledge_of_norms_heb  sjt.SJTRoundUserAnswers_collegial_behavior_jap  sjt.SJTRoundUserAnswers_knowledge_of_norms_jap  sjt.SJTRoundUserAnswers_empathy_jap  sjt.SJTRoundUserAnswers_collegial_behavior_heb\n",
       "5C34B4463DDA6707662C0BE9                                   NaN                                   NaN                           3.875                                      4.863636                             1.833333                                      4.541667                           4.125                                        3.241379                                          4.4375                                        4.648649                             1.833333                                        4.928571\n",
       "5C3554E43DDA6707662C0BEC                                   NaN                                   NaN                             NaN                                           NaN                                  NaN                                           NaN                             NaN                                             NaN                                             NaN                                             NaN                                  NaN                                             NaN\n",
       "5C36FEEBB5997B32B4CEAA9C                                   NaN                                   NaN                           4.500                                      4.409091                             2.875000                                      3.916667                           4.875                                        4.275862                                          4.4375                                        4.648649                             2.458333                                        4.928571\n",
       "5C370638B5997B32B4CEAA9D                                   NaN                                   NaN                           3.625                                      3.500000                             3.291667                                      4.125000                           3.500                                        3.758621                                          4.4375                                        4.918919                             3.291667                                        4.928571\n",
       "5C3706BFB5997B32B4CEAA9E                                   NaN                                   NaN                           3.875                                      2.590909                             3.291667                                      2.875000                           3.375                                        2.896552                                          4.4375                                        4.378378                             2.666667                                        4.928571"
      ]
     },
     "execution_count": 44,
     "metadata": {},
     "output_type": "execute_result"
    }
   ],
   "source": [
    "sol=[]\n",
    "for col in list(df.columns):\n",
    "    if re.search('sjt.*SJTRoundUserAnswers\\_.*', col):\n",
    "        sol.append(col)\n",
    "df1= df[sol]\n",
    "df1.head()"
   ]
  },
  {
   "cell_type": "code",
   "execution_count": 48,
   "metadata": {},
   "outputs": [
    {
     "data": {
      "text/html": [
       "<div>\n",
       "<style scoped>\n",
       "    .dataframe tbody tr th:only-of-type {\n",
       "        vertical-align: middle;\n",
       "    }\n",
       "\n",
       "    .dataframe tbody tr th {\n",
       "        vertical-align: top;\n",
       "    }\n",
       "\n",
       "    .dataframe thead th {\n",
       "        text-align: right;\n",
       "    }\n",
       "</style>\n",
       "<table border=\"1\" class=\"dataframe\">\n",
       "  <thead>\n",
       "    <tr style=\"text-align: right;\">\n",
       "      <th></th>\n",
       "      <th>sjt.SJTRoundUserAnswers_teamwork_heb</th>\n",
       "      <th>sjt.SJTRoundUserAnswers_teamwork_jap</th>\n",
       "      <th>sjt.SJTRoundUserAnswers_eq_jap</th>\n",
       "      <th>sjt.SJTRoundUserAnswers_consienciousness_heb</th>\n",
       "      <th>sjt.SJTRoundUserAnswers_empathy_heb</th>\n",
       "      <th>sjt.SJTRoundUserAnswers_consienciousness_jap</th>\n",
       "      <th>sjt.SJTRoundUserAnswers_eq_heb</th>\n",
       "      <th>sjt.SJTRoundUserAnswers_knowledge_of_norms_heb</th>\n",
       "      <th>sjt.SJTRoundUserAnswers_collegial_behavior_jap</th>\n",
       "      <th>sjt.SJTRoundUserAnswers_knowledge_of_norms_jap</th>\n",
       "      <th>sjt.SJTRoundUserAnswers_empathy_jap</th>\n",
       "      <th>sjt.SJTRoundUserAnswers_collegial_behavior_heb</th>\n",
       "    </tr>\n",
       "  </thead>\n",
       "  <tbody>\n",
       "    <tr>\n",
       "      <th>5C34B4463DDA6707662C0BE9</th>\n",
       "      <td>NaN</td>\n",
       "      <td>NaN</td>\n",
       "      <td>3.875</td>\n",
       "      <td>4.863636</td>\n",
       "      <td>1.833333</td>\n",
       "      <td>4.541667</td>\n",
       "      <td>4.125</td>\n",
       "      <td>3.241379</td>\n",
       "      <td>4.4375</td>\n",
       "      <td>4.648649</td>\n",
       "      <td>1.833333</td>\n",
       "      <td>4.928571</td>\n",
       "    </tr>\n",
       "    <tr>\n",
       "      <th>5C3554E43DDA6707662C0BEC</th>\n",
       "      <td>NaN</td>\n",
       "      <td>NaN</td>\n",
       "      <td>NaN</td>\n",
       "      <td>NaN</td>\n",
       "      <td>NaN</td>\n",
       "      <td>NaN</td>\n",
       "      <td>NaN</td>\n",
       "      <td>NaN</td>\n",
       "      <td>NaN</td>\n",
       "      <td>NaN</td>\n",
       "      <td>NaN</td>\n",
       "      <td>NaN</td>\n",
       "    </tr>\n",
       "    <tr>\n",
       "      <th>5C36FEEBB5997B32B4CEAA9C</th>\n",
       "      <td>NaN</td>\n",
       "      <td>NaN</td>\n",
       "      <td>4.500</td>\n",
       "      <td>4.409091</td>\n",
       "      <td>2.875000</td>\n",
       "      <td>3.916667</td>\n",
       "      <td>4.875</td>\n",
       "      <td>4.275862</td>\n",
       "      <td>4.4375</td>\n",
       "      <td>4.648649</td>\n",
       "      <td>2.458333</td>\n",
       "      <td>4.928571</td>\n",
       "    </tr>\n",
       "    <tr>\n",
       "      <th>5C370638B5997B32B4CEAA9D</th>\n",
       "      <td>NaN</td>\n",
       "      <td>NaN</td>\n",
       "      <td>3.625</td>\n",
       "      <td>3.500000</td>\n",
       "      <td>3.291667</td>\n",
       "      <td>4.125000</td>\n",
       "      <td>3.500</td>\n",
       "      <td>3.758621</td>\n",
       "      <td>4.4375</td>\n",
       "      <td>4.918919</td>\n",
       "      <td>3.291667</td>\n",
       "      <td>4.928571</td>\n",
       "    </tr>\n",
       "    <tr>\n",
       "      <th>5C3706BFB5997B32B4CEAA9E</th>\n",
       "      <td>NaN</td>\n",
       "      <td>NaN</td>\n",
       "      <td>3.875</td>\n",
       "      <td>2.590909</td>\n",
       "      <td>3.291667</td>\n",
       "      <td>2.875000</td>\n",
       "      <td>3.375</td>\n",
       "      <td>2.896552</td>\n",
       "      <td>4.4375</td>\n",
       "      <td>4.378378</td>\n",
       "      <td>2.666667</td>\n",
       "      <td>4.928571</td>\n",
       "    </tr>\n",
       "  </tbody>\n",
       "</table>\n",
       "</div>"
      ],
      "text/plain": [
       "                          sjt.SJTRoundUserAnswers_teamwork_heb  sjt.SJTRoundUserAnswers_teamwork_jap  sjt.SJTRoundUserAnswers_eq_jap  sjt.SJTRoundUserAnswers_consienciousness_heb  sjt.SJTRoundUserAnswers_empathy_heb  sjt.SJTRoundUserAnswers_consienciousness_jap  sjt.SJTRoundUserAnswers_eq_heb  sjt.SJTRoundUserAnswers_knowledge_of_norms_heb  sjt.SJTRoundUserAnswers_collegial_behavior_jap  sjt.SJTRoundUserAnswers_knowledge_of_norms_jap  sjt.SJTRoundUserAnswers_empathy_jap  sjt.SJTRoundUserAnswers_collegial_behavior_heb\n",
       "5C34B4463DDA6707662C0BE9                                   NaN                                   NaN                           3.875                                      4.863636                             1.833333                                      4.541667                           4.125                                        3.241379                                          4.4375                                        4.648649                             1.833333                                        4.928571\n",
       "5C3554E43DDA6707662C0BEC                                   NaN                                   NaN                             NaN                                           NaN                                  NaN                                           NaN                             NaN                                             NaN                                             NaN                                             NaN                                  NaN                                             NaN\n",
       "5C36FEEBB5997B32B4CEAA9C                                   NaN                                   NaN                           4.500                                      4.409091                             2.875000                                      3.916667                           4.875                                        4.275862                                          4.4375                                        4.648649                             2.458333                                        4.928571\n",
       "5C370638B5997B32B4CEAA9D                                   NaN                                   NaN                           3.625                                      3.500000                             3.291667                                      4.125000                           3.500                                        3.758621                                          4.4375                                        4.918919                             3.291667                                        4.928571\n",
       "5C3706BFB5997B32B4CEAA9E                                   NaN                                   NaN                           3.875                                      2.590909                             3.291667                                      2.875000                           3.375                                        2.896552                                          4.4375                                        4.378378                             2.666667                                        4.928571"
      ]
     },
     "execution_count": 48,
     "metadata": {},
     "output_type": "execute_result"
    }
   ],
   "source": [
    "df1 = df1.dropna(axis=1,how = 'all')\n",
    "df1.head()"
   ]
  },
  {
   "cell_type": "code",
   "execution_count": 52,
   "metadata": {},
   "outputs": [
    {
     "data": {
      "text/html": [
       "<div>\n",
       "<style scoped>\n",
       "    .dataframe tbody tr th:only-of-type {\n",
       "        vertical-align: middle;\n",
       "    }\n",
       "\n",
       "    .dataframe tbody tr th {\n",
       "        vertical-align: top;\n",
       "    }\n",
       "\n",
       "    .dataframe thead th {\n",
       "        text-align: right;\n",
       "    }\n",
       "</style>\n",
       "<table border=\"1\" class=\"dataframe\">\n",
       "  <thead>\n",
       "    <tr style=\"text-align: right;\">\n",
       "      <th></th>\n",
       "      <th>sjt.SJTRoundUserAnswers_collegial_behavior_heb</th>\n",
       "      <th>sjt.SJTRoundUserAnswers_collegial_behavior_jap</th>\n",
       "      <th>sjt.SJTRoundUserAnswers_consienciousness_heb</th>\n",
       "      <th>sjt.SJTRoundUserAnswers_consienciousness_jap</th>\n",
       "      <th>sjt.SJTRoundUserAnswers_empathy_heb</th>\n",
       "      <th>sjt.SJTRoundUserAnswers_empathy_jap</th>\n",
       "      <th>sjt.SJTRoundUserAnswers_eq_heb</th>\n",
       "      <th>sjt.SJTRoundUserAnswers_eq_jap</th>\n",
       "      <th>sjt.SJTRoundUserAnswers_knowledge_of_norms_heb</th>\n",
       "      <th>sjt.SJTRoundUserAnswers_knowledge_of_norms_jap</th>\n",
       "      <th>sjt.SJTRoundUserAnswers_teamwork_heb</th>\n",
       "      <th>sjt.SJTRoundUserAnswers_teamwork_jap</th>\n",
       "    </tr>\n",
       "  </thead>\n",
       "  <tbody>\n",
       "    <tr>\n",
       "      <th>5C34B4463DDA6707662C0BE9</th>\n",
       "      <td>4.928571</td>\n",
       "      <td>4.4375</td>\n",
       "      <td>4.863636</td>\n",
       "      <td>4.541667</td>\n",
       "      <td>1.833333</td>\n",
       "      <td>1.833333</td>\n",
       "      <td>4.125</td>\n",
       "      <td>3.875</td>\n",
       "      <td>3.241379</td>\n",
       "      <td>4.648649</td>\n",
       "      <td>NaN</td>\n",
       "      <td>NaN</td>\n",
       "    </tr>\n",
       "    <tr>\n",
       "      <th>5C3554E43DDA6707662C0BEC</th>\n",
       "      <td>NaN</td>\n",
       "      <td>NaN</td>\n",
       "      <td>NaN</td>\n",
       "      <td>NaN</td>\n",
       "      <td>NaN</td>\n",
       "      <td>NaN</td>\n",
       "      <td>NaN</td>\n",
       "      <td>NaN</td>\n",
       "      <td>NaN</td>\n",
       "      <td>NaN</td>\n",
       "      <td>NaN</td>\n",
       "      <td>NaN</td>\n",
       "    </tr>\n",
       "    <tr>\n",
       "      <th>5C36FEEBB5997B32B4CEAA9C</th>\n",
       "      <td>4.928571</td>\n",
       "      <td>4.4375</td>\n",
       "      <td>4.409091</td>\n",
       "      <td>3.916667</td>\n",
       "      <td>2.875000</td>\n",
       "      <td>2.458333</td>\n",
       "      <td>4.875</td>\n",
       "      <td>4.500</td>\n",
       "      <td>4.275862</td>\n",
       "      <td>4.648649</td>\n",
       "      <td>NaN</td>\n",
       "      <td>NaN</td>\n",
       "    </tr>\n",
       "    <tr>\n",
       "      <th>5C370638B5997B32B4CEAA9D</th>\n",
       "      <td>4.928571</td>\n",
       "      <td>4.4375</td>\n",
       "      <td>3.500000</td>\n",
       "      <td>4.125000</td>\n",
       "      <td>3.291667</td>\n",
       "      <td>3.291667</td>\n",
       "      <td>3.500</td>\n",
       "      <td>3.625</td>\n",
       "      <td>3.758621</td>\n",
       "      <td>4.918919</td>\n",
       "      <td>NaN</td>\n",
       "      <td>NaN</td>\n",
       "    </tr>\n",
       "    <tr>\n",
       "      <th>5C3706BFB5997B32B4CEAA9E</th>\n",
       "      <td>4.928571</td>\n",
       "      <td>4.4375</td>\n",
       "      <td>2.590909</td>\n",
       "      <td>2.875000</td>\n",
       "      <td>3.291667</td>\n",
       "      <td>2.666667</td>\n",
       "      <td>3.375</td>\n",
       "      <td>3.875</td>\n",
       "      <td>2.896552</td>\n",
       "      <td>4.378378</td>\n",
       "      <td>NaN</td>\n",
       "      <td>NaN</td>\n",
       "    </tr>\n",
       "  </tbody>\n",
       "</table>\n",
       "</div>"
      ],
      "text/plain": [
       "                          sjt.SJTRoundUserAnswers_collegial_behavior_heb  sjt.SJTRoundUserAnswers_collegial_behavior_jap  sjt.SJTRoundUserAnswers_consienciousness_heb  sjt.SJTRoundUserAnswers_consienciousness_jap  sjt.SJTRoundUserAnswers_empathy_heb  sjt.SJTRoundUserAnswers_empathy_jap  sjt.SJTRoundUserAnswers_eq_heb  sjt.SJTRoundUserAnswers_eq_jap  sjt.SJTRoundUserAnswers_knowledge_of_norms_heb  sjt.SJTRoundUserAnswers_knowledge_of_norms_jap  sjt.SJTRoundUserAnswers_teamwork_heb  sjt.SJTRoundUserAnswers_teamwork_jap\n",
       "5C34B4463DDA6707662C0BE9                                        4.928571                                          4.4375                                      4.863636                                      4.541667                             1.833333                             1.833333                           4.125                           3.875                                        3.241379                                        4.648649                                   NaN                                   NaN\n",
       "5C3554E43DDA6707662C0BEC                                             NaN                                             NaN                                           NaN                                           NaN                                  NaN                                  NaN                             NaN                             NaN                                             NaN                                             NaN                                   NaN                                   NaN\n",
       "5C36FEEBB5997B32B4CEAA9C                                        4.928571                                          4.4375                                      4.409091                                      3.916667                             2.875000                             2.458333                           4.875                           4.500                                        4.275862                                        4.648649                                   NaN                                   NaN\n",
       "5C370638B5997B32B4CEAA9D                                        4.928571                                          4.4375                                      3.500000                                      4.125000                             3.291667                             3.291667                           3.500                           3.625                                        3.758621                                        4.918919                                   NaN                                   NaN\n",
       "5C3706BFB5997B32B4CEAA9E                                        4.928571                                          4.4375                                      2.590909                                      2.875000                             3.291667                             2.666667                           3.375                           3.875                                        2.896552                                        4.378378                                   NaN                                   NaN"
      ]
     },
     "execution_count": 52,
     "metadata": {},
     "output_type": "execute_result"
    }
   ],
   "source": [
    "# sort columns in alphabetical order\n",
    "\n",
    "a = [];\n",
    "for col in sorted(df1.columns):\n",
    "    a.append(col)\n",
    "    \n",
    "import re\n",
    "\n",
    "def atoi(text):\n",
    "    return int(text) if text.isdigit() else text\n",
    "\n",
    "def natural_keys(text):\n",
    "    return [ atoi(c) for c in re.split('(\\d+)', text) ]\n",
    "\n",
    "a.sort(key=natural_keys)\n",
    "\n",
    "df1=df1[a]\n",
    "\n",
    "#df=df[np.logical_not(df.index.str.startswith('W'))]\n",
    "df1.head()"
   ]
  },
  {
   "cell_type": "code",
   "execution_count": 70,
   "metadata": {},
   "outputs": [
    {
     "name": "stdout",
     "output_type": "stream",
     "text": [
      "sjt.SJTRoundUserAnswers_collegial_behavior_heb\n"
     ]
    },
    {
     "data": {
      "image/png": "[encoded data removed]",
      "text/plain": [
       "<Figure size 432x288 with 1 Axes>"
      ]
     },
     "metadata": {
      "needs_background": "light"
     },
     "output_type": "display_data"
    },
    {
     "name": "stdout",
     "output_type": "stream",
     "text": [
      "sjt.SJTRoundUserAnswers_collegial_behavior_jap\n"
     ]
    },
    {
     "data": {
      "image/png": "[encoded data removed]",
      "text/plain": [
       "<Figure size 432x288 with 1 Axes>"
      ]
     },
     "metadata": {
      "needs_background": "light"
     },
     "output_type": "display_data"
    },
    {
     "name": "stdout",
     "output_type": "stream",
     "text": [
      "sjt.SJTRoundUserAnswers_consienciousness_heb\n"
     ]
    },
    {
     "data": {
      "image/png": "[encoded data removed]",
      "text/plain": [
       "<Figure size 432x288 with 1 Axes>"
      ]
     },
     "metadata": {
      "needs_background": "light"
     },
     "output_type": "display_data"
    },
    {
     "name": "stdout",
     "output_type": "stream",
     "text": [
      "sjt.SJTRoundUserAnswers_consienciousness_jap\n"
     ]
    },
    {
     "data": {
      "image/png": "[encoded data removed]",
      "text/plain": [
       "<Figure size 432x288 with 1 Axes>"
      ]
     },
     "metadata": {
      "needs_background": "light"
     },
     "output_type": "display_data"
    },
    {
     "name": "stdout",
     "output_type": "stream",
     "text": [
      "sjt.SJTRoundUserAnswers_empathy_heb\n"
     ]
    },
    {
     "data": {
      "image/png": "[encoded data removed]",
      "text/plain": [
       "<Figure size 432x288 with 1 Axes>"
      ]
     },
     "metadata": {
      "needs_background": "light"
     },
     "output_type": "display_data"
    },
    {
     "name": "stdout",
     "output_type": "stream",
     "text": [
      "sjt.SJTRoundUserAnswers_empathy_jap\n"
     ]
    },
    {
     "data": {
      "image/png": "[encoded data removed]",
      "text/plain": [
       "<Figure size 432x288 with 1 Axes>"
      ]
     },
     "metadata": {
      "needs_background": "light"
     },
     "output_type": "display_data"
    },
    {
     "name": "stdout",
     "output_type": "stream",
     "text": [
      "sjt.SJTRoundUserAnswers_eq_heb\n"
     ]
    },
    {
     "data": {
      "image/png": "[encoded data removed]",
      "text/plain": [
       "<Figure size 432x288 with 1 Axes>"
      ]
     },
     "metadata": {
      "needs_background": "light"
     },
     "output_type": "display_data"
    },
    {
     "name": "stdout",
     "output_type": "stream",
     "text": [
      "sjt.SJTRoundUserAnswers_eq_jap\n"
     ]
    },
    {
     "data": {
      "image/png": "[encoded data removed]",
      "text/plain": [
       "<Figure size 432x288 with 1 Axes>"
      ]
     },
     "metadata": {
      "needs_background": "light"
     },
     "output_type": "display_data"
    },
    {
     "name": "stdout",
     "output_type": "stream",
     "text": [
      "sjt.SJTRoundUserAnswers_knowledge_of_norms_heb\n"
     ]
    },
    {
     "data": {
      "image/png": "[encoded data removed]",
      "text/plain": [
       "<Figure size 432x288 with 1 Axes>"
      ]
     },
     "metadata": {
      "needs_background": "light"
     },
     "output_type": "display_data"
    },
    {
     "name": "stdout",
     "output_type": "stream",
     "text": [
      "sjt.SJTRoundUserAnswers_knowledge_of_norms_jap\n"
     ]
    },
    {
     "data": {
      "image/png": "[encoded data removed]",
      "text/plain": [
       "<Figure size 432x288 with 1 Axes>"
      ]
     },
     "metadata": {
      "needs_background": "light"
     },
     "output_type": "display_data"
    },
    {
     "name": "stdout",
     "output_type": "stream",
     "text": [
      "sjt.SJTRoundUserAnswers_teamwork_heb\n"
     ]
    },
    {
     "data": {
      "image/png": "[encoded data removed]",
      "text/plain": [
       "<Figure size 432x288 with 1 Axes>"
      ]
     },
     "metadata": {
      "needs_background": "light"
     },
     "output_type": "display_data"
    },
    {
     "name": "stdout",
     "output_type": "stream",
     "text": [
      "sjt.SJTRoundUserAnswers_teamwork_jap\n"
     ]
    },
    {
     "data": {
      "image/png": "[encoded data removed]",
      "text/plain": [
       "<Figure size 432x288 with 1 Axes>"
      ]
     },
     "metadata": {
      "needs_background": "light"
     },
     "output_type": "display_data"
    }
   ],
   "source": [
    "for col in df1.columns:\n",
    "    print(col)\n",
    "    df1[col].hist()\n",
    "    plt.show()"
   ]
  },
  {
   "cell_type": "code",
   "execution_count": 63,
   "metadata": {},
   "outputs": [],
   "source": [
    "\n",
    "df1.to_excel(\"sjt_user_ans.xlsx\")"
   ]
  },
  {
   "cell_type": "code",
   "execution_count": null,
   "metadata": {},
   "outputs": [],
   "source": [
    "sjt_n = ''\n",
    "for j,col in enumerate(df.columns[df.columns.str.startswith('sjt'+sjt_n+'.SJTRoundUserAnswers.')]):\n",
    "    n=str.split(col,'sjt'+sjt_n+'.SJTRoundUserAnswers.')[1]\n",
    "    print('\\n\\n\\n',j+1,':',df['sjt'+sjt_n+'.SJTRoundUserQuestions.'+n][0])\n",
    "    df1['SJTRoundUserAnswers'+'_num.'+n] = pd.Series(np.zeros(df.shape[0]), index=df.index)\n",
    "    for i,ans in enumerate(sorted(set(df['sjt'+sjt_n+'.SJTRoundUserAnswersString.'+n]))): # sorted\n",
    "        if ans is None:\n",
    "             continue\n",
    "        if bool(re.match('^[0-9\\.\\-]+$',ans.strip())):\n",
    "             continue                   \n",
    "        df['SJTRoundUserAnswers'+'_num.'+n][df[col]==ans]=i+1\n",
    "        if re.match('^[a-zA-Z,\\._\\- 0-9]*$',ans) is not None:\n",
    "            print(i+1,'-',ans)\n",
    "        else:\n",
    "            print(i+1,'-',ans[::-1])\n",
    "        print(round(len(df[col][df[col]==ans])/len(df[col])*100,1),'%\\n')\n",
    "    if bool(re.match('^[0-9\\.\\-]+$',ans.strip())):\n",
    "        pd.to_numeric(df['sjt'+sjt_n+'.SJTRoundUserAnswersString.'+n]).hist()    \n",
    "    else:\n",
    "        df['SJTRoundUserAnswers'+'_num.'+n].hist()\n",
    "    plt.show()"
   ]
  },
  {
   "cell_type": "code",
   "execution_count": 11,
   "metadata": {},
   "outputs": [
    {
     "data": {
      "text/html": [
       "<div>\n",
       "<style scoped>\n",
       "    .dataframe tbody tr th:only-of-type {\n",
       "        vertical-align: middle;\n",
       "    }\n",
       "\n",
       "    .dataframe tbody tr th {\n",
       "        vertical-align: top;\n",
       "    }\n",
       "\n",
       "    .dataframe thead th {\n",
       "        text-align: right;\n",
       "    }\n",
       "</style>\n",
       "<table border=\"1\" class=\"dataframe\">\n",
       "  <thead>\n",
       "    <tr style=\"text-align: right;\">\n",
       "      <th></th>\n",
       "      <th>pzl.site_name.0</th>\n",
       "      <th>pzl.stress.0</th>\n",
       "      <th>pzl.stress.1</th>\n",
       "      <th>pzl.stress.2</th>\n",
       "      <th>pzl.stress.3</th>\n",
       "      <th>sjt.C#.Collegial Behavior</th>\n",
       "      <th>sjt.C#.Conscientiousness</th>\n",
       "      <th>sjt.C#.EQ</th>\n",
       "      <th>sjt.C#.Empathy</th>\n",
       "      <th>sjt.C#.Knowledge Of Social Organizational Norms</th>\n",
       "      <th>sjt.SJTRoundUserAnswers.0</th>\n",
       "      <th>sjt.SJTRoundUserAnswers.1</th>\n",
       "      <th>sjt.SJTRoundUserAnswers.2</th>\n",
       "      <th>sjt.SJTRoundUserAnswers.3</th>\n",
       "      <th>sjt.SJTRoundUserAnswers.4</th>\n",
       "      <th>sjt.SJTRoundUserAnswers.5</th>\n",
       "      <th>sjt.SJTRoundUserAnswers.6</th>\n",
       "      <th>sjt.SJTRoundUserAnswers.7</th>\n",
       "      <th>sjt.SJTRoundUserAnswers.8</th>\n",
       "      <th>sjt.SJTRoundUserAnswers.9</th>\n",
       "      <th>sjt.SJTRoundUserAnswers.10</th>\n",
       "      <th>sjt.SJTRoundUserAnswers.11</th>\n",
       "      <th>sjt.SJTRoundUserAnswers.12</th>\n",
       "      <th>sjt.SJTRoundUserAnswers.13</th>\n",
       "      <th>sjt.SJTRoundUserAnswers.14</th>\n",
       "      <th>sjt.SJTRoundUserAnswers.15</th>\n",
       "      <th>sjt.SJTRoundUserAnswers.16</th>\n",
       "      <th>sjt.SJTRoundUserAnswers.17</th>\n",
       "      <th>sjt.SJTRoundUserAnswers.18</th>\n",
       "      <th>sjt.SJTRoundUserAnswers.19</th>\n",
       "      <th>sjt.SJTRoundUserAnswers.20</th>\n",
       "      <th>sjt.SJTRoundUserAnswers.21</th>\n",
       "      <th>sjt.SJTRoundUserAnswers.22</th>\n",
       "      <th>sjt.SJTRoundUserAnswersString.0</th>\n",
       "      <th>sjt.SJTRoundUserAnswersString.1</th>\n",
       "      <th>sjt.SJTRoundUserAnswersString.2</th>\n",
       "      <th>sjt.SJTRoundUserAnswersString.3</th>\n",
       "      <th>sjt.SJTRoundUserAnswersString.4</th>\n",
       "      <th>sjt.SJTRoundUserAnswersString.5</th>\n",
       "      <th>sjt.SJTRoundUserAnswersString.6</th>\n",
       "      <th>sjt.SJTRoundUserAnswersString.7</th>\n",
       "      <th>sjt.SJTRoundUserAnswersString.8</th>\n",
       "      <th>sjt.SJTRoundUserAnswersString.9</th>\n",
       "      <th>sjt.SJTRoundUserAnswersString.10</th>\n",
       "      <th>sjt.SJTRoundUserAnswersString.11</th>\n",
       "      <th>sjt.SJTRoundUserAnswersString.12</th>\n",
       "      <th>sjt.SJTRoundUserAnswersString.13</th>\n",
       "      <th>sjt.SJTRoundUserAnswersString.14</th>\n",
       "      <th>sjt.SJTRoundUserAnswersString.15</th>\n",
       "      <th>sjt.SJTRoundUserAnswersString.16</th>\n",
       "      <th>sjt.SJTRoundUserAnswersString.17</th>\n",
       "      <th>sjt.SJTRoundUserAnswersString.18</th>\n",
       "      <th>sjt.SJTRoundUserAnswersString.19</th>\n",
       "      <th>sjt.SJTRoundUserAnswersString.20</th>\n",
       "      <th>sjt.SJTRoundUserAnswersString.21</th>\n",
       "      <th>sjt.SJTRoundUserAnswersString.22</th>\n",
       "      <th>sjt.SJTRoundUserAnswers_collegial_behavior_heb</th>\n",
       "      <th>sjt.SJTRoundUserAnswers_collegial_behavior_jap</th>\n",
       "      <th>sjt.SJTRoundUserAnswers_consienciousness_heb</th>\n",
       "      <th>sjt.SJTRoundUserAnswers_consienciousness_jap</th>\n",
       "      <th>sjt.SJTRoundUserAnswers_empathy_heb</th>\n",
       "      <th>sjt.SJTRoundUserAnswers_empathy_jap</th>\n",
       "      <th>sjt.SJTRoundUserAnswers_eq_heb</th>\n",
       "      <th>sjt.SJTRoundUserAnswers_eq_jap</th>\n",
       "      <th>sjt.SJTRoundUserAnswers_knowledge_of_norms_heb</th>\n",
       "      <th>sjt.SJTRoundUserAnswers_knowledge_of_norms_jap</th>\n",
       "      <th>sjt.SJTRoundUserAnswers_teamwork_heb</th>\n",
       "      <th>sjt.SJTRoundUserAnswers_teamwork_jap</th>\n",
       "      <th>sjt.SJTRoundUserQuestions.0</th>\n",
       "      <th>sjt.SJTRoundUserQuestions.1</th>\n",
       "      <th>sjt.SJTRoundUserQuestions.2</th>\n",
       "      <th>sjt.SJTRoundUserQuestions.3</th>\n",
       "      <th>sjt.SJTRoundUserQuestions.4</th>\n",
       "      <th>sjt.SJTRoundUserQuestions.5</th>\n",
       "      <th>sjt.SJTRoundUserQuestions.6</th>\n",
       "      <th>sjt.SJTRoundUserQuestions.7</th>\n",
       "      <th>sjt.SJTRoundUserQuestions.8</th>\n",
       "      <th>sjt.SJTRoundUserQuestions.9</th>\n",
       "      <th>sjt.SJTRoundUserQuestions.10</th>\n",
       "      <th>sjt.SJTRoundUserQuestions.11</th>\n",
       "      <th>sjt.SJTRoundUserQuestions.12</th>\n",
       "      <th>sjt.SJTRoundUserQuestions.13</th>\n",
       "      <th>sjt.SJTRoundUserQuestions.14</th>\n",
       "      <th>sjt.SJTRoundUserQuestions.15</th>\n",
       "      <th>sjt.SJTRoundUserQuestions.16</th>\n",
       "      <th>sjt.SJTRoundUserQuestions.17</th>\n",
       "      <th>sjt.SJTRoundUserQuestions.18</th>\n",
       "      <th>sjt.SJTRoundUserQuestions.19</th>\n",
       "      <th>sjt.SJTRoundUserQuestions.20</th>\n",
       "      <th>sjt.SJTRoundUserQuestions.21</th>\n",
       "      <th>sjt.SJTRoundUserQuestions.22</th>\n",
       "    </tr>\n",
       "  </thead>\n",
       "  <tbody>\n",
       "    <tr>\n",
       "      <th>5C34B4463DDA6707662C0BE9</th>\n",
       "      <td>None</td>\n",
       "      <td>None</td>\n",
       "      <td>None</td>\n",
       "      <td>None</td>\n",
       "      <td>None</td>\n",
       "      <td>4.4375</td>\n",
       "      <td>4.541667</td>\n",
       "      <td>4.50</td>\n",
       "      <td>1.833333</td>\n",
       "      <td>4.43750</td>\n",
       "      <td>2.0</td>\n",
       "      <td>2.0</td>\n",
       "      <td>3.0</td>\n",
       "      <td>1.0</td>\n",
       "      <td>1.0</td>\n",
       "      <td>1.0</td>\n",
       "      <td>3.0</td>\n",
       "      <td>4.7</td>\n",
       "      <td>1.0</td>\n",
       "      <td>1.0</td>\n",
       "      <td>2.0</td>\n",
       "      <td>2.7</td>\n",
       "      <td>3.0</td>\n",
       "      <td>1.0</td>\n",
       "      <td>4.0</td>\n",
       "      <td>3.0</td>\n",
       "      <td>1.0</td>\n",
       "      <td>4.0</td>\n",
       "      <td>2.0</td>\n",
       "      <td>2.0</td>\n",
       "      <td>NaN</td>\n",
       "      <td>NaN</td>\n",
       "      <td>NaN</td>\n",
       "      <td>Image_Dog</td>\n",
       "      <td>稲山聡を介入して問題の解決を考えてもらう。</td>\n",
       "      <td>こんなことは自分にはありえないと失望する。</td>\n",
       "      <td>傲慢</td>\n",
       "      <td>真面目</td>\n",
       "      <td>給料が下がり家族に迷惑をかけること\\nになるだろうが責任を取る。</td>\n",
       "      <td>それは起こるべきではなかったが、人\\n間のやることには間違いは常に存在すると思う。</td>\n",
       "      <td>4.7</td>\n",
       "      <td>このような期待は非常に不合理そして\\n不公平で矢沢亜美を難しい立場に置くと思う。</td>\n",
       "      <td>友達関係の同僚。</td>\n",
       "      <td>失望を感じる。海老原たかるのミスをから\\nもっと早くにチェックするべきだったと思う。</td>\n",
       "      <td>2.7</td>\n",
       "      <td>山田隆の側も理解するが、結局のところ、\\nそのようなことを聞くこと自体、部下のやる気を\\n損...</td>\n",
       "      <td>自分の立場を犠牲にしてでも彼女が早く\\n出れるように上司に説得する。</td>\n",
       "      <td>ひそかに競争しあう関係。</td>\n",
       "      <td>稲山聡は山田隆を完璧ではないがいい\\n上司だと思う。</td>\n",
       "      <td>上司は稲谷佐知さんのような社員に、\\n自身の領域の中で正当な自由を与える\\nべきだと思う。</td>\n",
       "      <td>クライアントは気に入らないだろう\\nが、完璧なプレゼンテーションを作る\\nために会議を延期す...</td>\n",
       "      <td>各社員が自身の成功と失敗の責任を\\n取るべきなので海老原たかるの責任だと思う。</td>\n",
       "      <td>かなり厳しい状況、社員の欠点と能力を\\nもっと認識し監督するべきだと思う。</td>\n",
       "      <td>None</td>\n",
       "      <td>None</td>\n",
       "      <td>None</td>\n",
       "      <td>4.928571</td>\n",
       "      <td>4.4375</td>\n",
       "      <td>4.863636</td>\n",
       "      <td>4.541667</td>\n",
       "      <td>1.833333</td>\n",
       "      <td>1.833333</td>\n",
       "      <td>4.125</td>\n",
       "      <td>3.875</td>\n",
       "      <td>3.241379</td>\n",
       "      <td>4.648649</td>\n",
       "      <td>NaN</td>\n",
       "      <td>NaN</td>\n",
       "      <td>あなたが一番好きな動物は何ですか？</td>\n",
       "      <td>あなたが矢沢亜美だったらどう対応しますか？</td>\n",
       "      <td>あなたが矢沢亜美だったら海老原た\\n   かるのことをどう思いますか？</td>\n",
       "      <td>これまでのあなたの印象では稲山聡\\n　はどういう性格の持ち主ですか？</td>\n",
       "      <td>これまでのあなたの印象では上司とし\\n   て山田隆はどういう性格の持ち主ですか？</td>\n",
       "      <td>あなたが海老原たかるだったらどう対応しますか？</td>\n",
       "      <td>この状況で発生したミスについてあな\\n    たはどう思いますか？</td>\n",
       "      <td>1から6のスケールの中で海老原たかる\\n の矢沢亜美への要求をあなたはどう評価しますか？</td>\n",
       "      <td>矢沢亜美が海老原たかるをフォローしてくれる\\n    という海老原の期待をあなたはど...</td>\n",
       "      <td>海老原たかると矢沢亜美の関係を\\n    あなたはどう描写しますか？</td>\n",
       "      <td>矢沢亜美についてどう思いますか？</td>\n",
       "      <td>1から6のスケールの中で山田隆の矢沢\\n   亜美へのリクエストをどう評価しますか？</td>\n",
       "      <td>山田隆が姉の結婚式より仕事を優先し\\n     てほしいと矢沢亜美に要求する状況を...</td>\n",
       "      <td>稲山聡は矢沢亜美のチームリーダーです。もしあなた\\n   が彼の立場だったら矢沢亜美が...</td>\n",
       "      <td>山田隆と稲山聡の関係をあなたはどう描写しますか？</td>\n",
       "      <td>稲山聡が山田隆に対して思っているこ\\n     とをあなたはどう思いますか？</td>\n",
       "      <td>稲山聡のような社員を上司はどう扱う\\n     べきだとあなたは思いますか？</td>\n",
       "      <td>あなたがチームのメンバーだったらプレゼンテーシ\\n     ョンが上手くいくために...</td>\n",
       "      <td>このミスは結局だれの責任\\n     だとあなたは思いますか？</td>\n",
       "      <td>山田隆が直面する状況をあ\\n     なたはどう思いますか？</td>\n",
       "      <td>None</td>\n",
       "      <td>None</td>\n",
       "      <td>None</td>\n",
       "    </tr>\n",
       "    <tr>\n",
       "      <th>5C3554E43DDA6707662C0BEC</th>\n",
       "      <td>None</td>\n",
       "      <td>None</td>\n",
       "      <td>None</td>\n",
       "      <td>None</td>\n",
       "      <td>None</td>\n",
       "      <td>1.0000</td>\n",
       "      <td>1.000000</td>\n",
       "      <td>1.00</td>\n",
       "      <td>1.000000</td>\n",
       "      <td>1.46875</td>\n",
       "      <td>-1.0</td>\n",
       "      <td>-1.0</td>\n",
       "      <td>-1.0</td>\n",
       "      <td>-1.0</td>\n",
       "      <td>-1.0</td>\n",
       "      <td>-1.0</td>\n",
       "      <td>-1.0</td>\n",
       "      <td>-1.0</td>\n",
       "      <td>-1.0</td>\n",
       "      <td>-1.0</td>\n",
       "      <td>-1.0</td>\n",
       "      <td>-1.0</td>\n",
       "      <td>-1.0</td>\n",
       "      <td>-1.0</td>\n",
       "      <td>-1.0</td>\n",
       "      <td>-1.0</td>\n",
       "      <td>-1.0</td>\n",
       "      <td>-1.0</td>\n",
       "      <td>-1.0</td>\n",
       "      <td>-1.0</td>\n",
       "      <td>NaN</td>\n",
       "      <td>NaN</td>\n",
       "      <td>NaN</td>\n",
       "      <td>null</td>\n",
       "      <td>null</td>\n",
       "      <td>null</td>\n",
       "      <td>null</td>\n",
       "      <td>null</td>\n",
       "      <td>null</td>\n",
       "      <td>null</td>\n",
       "      <td>null</td>\n",
       "      <td>null</td>\n",
       "      <td>null</td>\n",
       "      <td>null</td>\n",
       "      <td>null</td>\n",
       "      <td>null</td>\n",
       "      <td>null</td>\n",
       "      <td>null</td>\n",
       "      <td>null</td>\n",
       "      <td>null</td>\n",
       "      <td>null</td>\n",
       "      <td>null</td>\n",
       "      <td>null</td>\n",
       "      <td>None</td>\n",
       "      <td>None</td>\n",
       "      <td>None</td>\n",
       "      <td>NaN</td>\n",
       "      <td>NaN</td>\n",
       "      <td>NaN</td>\n",
       "      <td>NaN</td>\n",
       "      <td>NaN</td>\n",
       "      <td>NaN</td>\n",
       "      <td>NaN</td>\n",
       "      <td>NaN</td>\n",
       "      <td>NaN</td>\n",
       "      <td>NaN</td>\n",
       "      <td>NaN</td>\n",
       "      <td>NaN</td>\n",
       "      <td>あなたが一番好きな動物は何ですか？</td>\n",
       "      <td>あなたが矢沢亜美だったらどう対応しますか？</td>\n",
       "      <td>あなたが矢沢亜美だったら海老原た\\n   かるのことをどう思いますか？</td>\n",
       "      <td>これまでのあなたの印象では稲山聡\\n　はどういう性格の持ち主ですか？</td>\n",
       "      <td>これまでのあなたの印象では上司とし\\n   て山田隆はどういう性格の持ち主ですか？</td>\n",
       "      <td>あなたが海老原たかるだったらどう対応しますか？</td>\n",
       "      <td>この状況で発生したミスについてあな\\n    たはどう思いますか？</td>\n",
       "      <td>1から6のスケールの中で海老原たかる\\n の矢沢亜美への要求をあなたはどう評価しますか？</td>\n",
       "      <td>矢沢亜美が海老原たかるをフォローしてくれる\\n    という海老原の期待をあなたはど...</td>\n",
       "      <td>海老原たかると矢沢亜美の関係を\\n    あなたはどう描写しますか？</td>\n",
       "      <td>矢沢亜美についてどう思いますか？</td>\n",
       "      <td>1から6のスケールの中で山田隆の矢沢\\n   亜美へのリクエストをどう評価しますか？</td>\n",
       "      <td>山田隆が姉の結婚式より仕事を優先し\\n     てほしいと矢沢亜美に要求する状況を...</td>\n",
       "      <td>稲山聡は矢沢亜美のチームリーダーです。もしあなた\\n   が彼の立場だったら矢沢亜美が...</td>\n",
       "      <td>山田隆と稲山聡の関係をあなたはどう描写しますか？</td>\n",
       "      <td>稲山聡が山田隆に対して思っているこ\\n     とをあなたはどう思いますか？</td>\n",
       "      <td>稲山聡のような社員を上司はどう扱う\\n     べきだとあなたは思いますか？</td>\n",
       "      <td>あなたがチームのメンバーだったらプレゼンテーシ\\n     ョンが上手くいくために...</td>\n",
       "      <td>このミスは結局だれの責任\\n     だとあなたは思いますか？</td>\n",
       "      <td>山田隆が直面する状況をあ\\n     なたはどう思いますか？</td>\n",
       "      <td>None</td>\n",
       "      <td>None</td>\n",
       "      <td>None</td>\n",
       "    </tr>\n",
       "    <tr>\n",
       "      <th>5C36FEEBB5997B32B4CEAA9C</th>\n",
       "      <td>None</td>\n",
       "      <td>None</td>\n",
       "      <td>None</td>\n",
       "      <td>None</td>\n",
       "      <td>None</td>\n",
       "      <td>4.4375</td>\n",
       "      <td>3.916667</td>\n",
       "      <td>4.25</td>\n",
       "      <td>2.458333</td>\n",
       "      <td>4.59375</td>\n",
       "      <td>3.0</td>\n",
       "      <td>2.0</td>\n",
       "      <td>1.0</td>\n",
       "      <td>3.0</td>\n",
       "      <td>2.0</td>\n",
       "      <td>3.0</td>\n",
       "      <td>1.0</td>\n",
       "      <td>3.5</td>\n",
       "      <td>4.0</td>\n",
       "      <td>3.0</td>\n",
       "      <td>3.0</td>\n",
       "      <td>2.5</td>\n",
       "      <td>4.0</td>\n",
       "      <td>1.0</td>\n",
       "      <td>4.0</td>\n",
       "      <td>2.0</td>\n",
       "      <td>3.0</td>\n",
       "      <td>2.0</td>\n",
       "      <td>4.0</td>\n",
       "      <td>2.0</td>\n",
       "      <td>NaN</td>\n",
       "      <td>NaN</td>\n",
       "      <td>NaN</td>\n",
       "      <td>Image_Horse</td>\n",
       "      <td>稲山聡を介入して問題の解決を考えてもらう。</td>\n",
       "      <td>彼のひどい仕事ぶりに同情チェックが\\n足りなかった自分に多少責任を感じる。</td>\n",
       "      <td>ナーバス</td>\n",
       "      <td>信頼できる</td>\n",
       "      <td>稲山聡に謝り、正しいデータが出るま\\nで会議を延期するよう要求する。</td>\n",
       "      <td>このようなミスを避けるために、常に\\n仕事をチェックすることが重要だと思う。</td>\n",
       "      <td>3.5</td>\n",
       "      <td>チームメンバーはお互いに助け合うべき\\nだと思うので妥当と思う。</td>\n",
       "      <td>緊張した関係にある同僚。</td>\n",
       "      <td>感情に左右されずもっと強くあるべきだと思う。</td>\n",
       "      <td>2.5</td>\n",
       "      <td>上司として、この問題を解決しようと\\nし、社員をこのような困難なジレンマ\\nに陥らせてはなら...</td>\n",
       "      <td>自分の立場を犠牲にしてでも彼女が早く\\n出れるように上司に説得する。</td>\n",
       "      <td>ひそかに競争しあう関係。</td>\n",
       "      <td>稲山聡は山田隆を尊敬しない。</td>\n",
       "      <td>上司は稲山聡のような社員を励まし賞賛\\nしながら 成長させるのが賢明だと思う。</td>\n",
       "      <td>このような状況では上司が\\n主導権を握るべきだと思う。</td>\n",
       "      <td>チーム全員が等しくこのミスの責任者だと思う。</td>\n",
       "      <td>かなり厳しい状況、社員の欠点と能力を\\nもっと認識し監督するべきだと思う。</td>\n",
       "      <td>None</td>\n",
       "      <td>None</td>\n",
       "      <td>None</td>\n",
       "      <td>4.928571</td>\n",
       "      <td>4.4375</td>\n",
       "      <td>4.409091</td>\n",
       "      <td>3.916667</td>\n",
       "      <td>2.875000</td>\n",
       "      <td>2.458333</td>\n",
       "      <td>4.875</td>\n",
       "      <td>4.500</td>\n",
       "      <td>4.275862</td>\n",
       "      <td>4.648649</td>\n",
       "      <td>NaN</td>\n",
       "      <td>NaN</td>\n",
       "      <td>あなたが一番好きな動物は何ですか？</td>\n",
       "      <td>あなたが矢沢亜美だったらどう対応しますか？</td>\n",
       "      <td>あなたが矢沢亜美だったら榎原たかる\\n   のことをどう思いますか？</td>\n",
       "      <td>これまでのあなたの印象では稲山聡\\n　はどういう性格の持ち主ですか？</td>\n",
       "      <td>これまでのあなたの印象では上司とし\\n   て山田隆はどういう性格の持ち主ですか？</td>\n",
       "      <td>あなたが榎原たかるだったらどう対応しますか？</td>\n",
       "      <td>この状況で発生したミスについてあな\\n    たはどう思いますか？</td>\n",
       "      <td>1から6のスケールの中で榎原たかる\\n の矢沢亜美への要求を あなたはどう評価しますか？</td>\n",
       "      <td>矢沢亜美が榎原たかるをフォローしてくれる\\n    という榎原たかるの期待をあなたは...</td>\n",
       "      <td>榎原たかると矢沢亜美の関係を\\n    あなたはどう描写しますか？</td>\n",
       "      <td>矢沢亜美についてどう思いますか？</td>\n",
       "      <td>1から6のスケールの中で山田隆の矢沢\\n   亜美へのリクエストをどう評価しますか？</td>\n",
       "      <td>山田隆が姉の結婚式より仕事を優先し\\n     てほしいと矢沢亜美に要求する状況を...</td>\n",
       "      <td>稲山聡は矢沢亜美のチームリーダーです。もしあなた\\n   が彼の立場だったら矢沢亜美が...</td>\n",
       "      <td>山田隆と稲山聡の関係をあなたはどう描写しますか？</td>\n",
       "      <td>稲山聡が山田隆に対して思っているこ\\n     とをあなたはどう思いますか？</td>\n",
       "      <td>稲山聡のような社員を上司はどう扱う\\n     べきだとあなたは思いますか？</td>\n",
       "      <td>あなたがチームのメンバーだったら\\n     プレゼンテーションが上手くいくために...</td>\n",
       "      <td>このミスは結局だれの責任\\n     だとあなたは思いますか？</td>\n",
       "      <td>山田隆が直面する状況をあ\\n     なたはどう思いますか？</td>\n",
       "      <td>None</td>\n",
       "      <td>None</td>\n",
       "      <td>None</td>\n",
       "    </tr>\n",
       "    <tr>\n",
       "      <th>5C370638B5997B32B4CEAA9D</th>\n",
       "      <td>None</td>\n",
       "      <td>None</td>\n",
       "      <td>None</td>\n",
       "      <td>None</td>\n",
       "      <td>None</td>\n",
       "      <td>4.4375</td>\n",
       "      <td>4.125000</td>\n",
       "      <td>3.00</td>\n",
       "      <td>3.291667</td>\n",
       "      <td>4.59375</td>\n",
       "      <td>3.0</td>\n",
       "      <td>2.0</td>\n",
       "      <td>3.0</td>\n",
       "      <td>1.0</td>\n",
       "      <td>4.0</td>\n",
       "      <td>2.0</td>\n",
       "      <td>3.0</td>\n",
       "      <td>3.5</td>\n",
       "      <td>2.0</td>\n",
       "      <td>4.0</td>\n",
       "      <td>1.0</td>\n",
       "      <td>1.0</td>\n",
       "      <td>3.0</td>\n",
       "      <td>2.0</td>\n",
       "      <td>3.0</td>\n",
       "      <td>4.0</td>\n",
       "      <td>3.0</td>\n",
       "      <td>1.0</td>\n",
       "      <td>2.0</td>\n",
       "      <td>2.0</td>\n",
       "      <td>NaN</td>\n",
       "      <td>NaN</td>\n",
       "      <td>NaN</td>\n",
       "      <td>Image_Horse</td>\n",
       "      <td>稲山聡を介入して問題の解決を考えてもらう。</td>\n",
       "      <td>こんなことは自分にはありえないと失望する。</td>\n",
       "      <td>傲慢</td>\n",
       "      <td>厳格</td>\n",
       "      <td>稲谷聡に、間違いが完全に修正される\\nまで仕事を続けたいと伝え、残りのチ\\nームを集めて助け...</td>\n",
       "      <td>それは起こるべきではなかったが、人\\n間のやることには間違いは常に存在すると思う。</td>\n",
       "      <td>3.5</td>\n",
       "      <td>榎原たかるは他人に頼らないでミス\\nを犯さないよう努力するべきだと思う。</td>\n",
       "      <td>矢沢亜美は榎原たかるを好きではない。</td>\n",
       "      <td>非常に厳しい状況におかれてかわいそうに思う。</td>\n",
       "      <td>1</td>\n",
       "      <td>山田隆の側も理解するが、結局のところ、\\nそのようなことを聞くこと自体、部下のやる気を\\n損...</td>\n",
       "      <td>結婚式に間に合うように全力を尽くして手伝う。</td>\n",
       "      <td>一緒に仕事をする友人。</td>\n",
       "      <td>稲山聡は山田隆をフランクに話せるい\\nい同僚だと思う。</td>\n",
       "      <td>上司は稲山聡のような社員を励まし賞賛\\nしながら 成長させるのが賢明だと思う。</td>\n",
       "      <td>プレゼンテーションが時間どうりに\\n行われるようできるだけの責任を負う。</td>\n",
       "      <td>各社員が自身の成功と失敗の責任を\\n取るべきなので榎原たかるの責任だと思う。</td>\n",
       "      <td>かなり厳しい状況、社員の欠点と能力を\\nもっと認識し監督するべきだと思う。</td>\n",
       "      <td>None</td>\n",
       "      <td>None</td>\n",
       "      <td>None</td>\n",
       "      <td>4.928571</td>\n",
       "      <td>4.4375</td>\n",
       "      <td>3.500000</td>\n",
       "      <td>4.125000</td>\n",
       "      <td>3.291667</td>\n",
       "      <td>3.291667</td>\n",
       "      <td>3.500</td>\n",
       "      <td>3.625</td>\n",
       "      <td>3.758621</td>\n",
       "      <td>4.918919</td>\n",
       "      <td>NaN</td>\n",
       "      <td>NaN</td>\n",
       "      <td>あなたが一番好きな動物は何ですか？</td>\n",
       "      <td>あなたが矢沢亜美だったらどう対応しますか？</td>\n",
       "      <td>あなたが矢沢亜美だったら榎原たかる\\n   のことをどう思いますか？</td>\n",
       "      <td>これまでのあなたの印象では稲山聡\\n　はどういう性格の持ち主ですか？</td>\n",
       "      <td>これまでのあなたの印象では上司とし\\n   て山田隆はどういう性格の持ち主ですか？</td>\n",
       "      <td>あなたが榎原たかるだったらどう対応しますか？</td>\n",
       "      <td>この状況で発生したミスについてあな\\n    たはどう思いますか？</td>\n",
       "      <td>1から6のスケールの中で榎原たかる\\n の矢沢亜美への要求を あなたはどう評価しますか？</td>\n",
       "      <td>矢沢亜美が榎原たかるをフォローしてくれる\\n    という榎原たかるの期待をあなたは...</td>\n",
       "      <td>榎原たかると矢沢亜美の関係を\\n    あなたはどう描写しますか？</td>\n",
       "      <td>矢沢亜美についてどう思いますか？</td>\n",
       "      <td>1から6のスケールの中で山田隆の矢沢\\n   亜美へのリクエストをどう評価しますか？</td>\n",
       "      <td>山田隆が姉の結婚式より仕事を優先し\\n     てほしいと矢沢亜美に要求する状況を...</td>\n",
       "      <td>稲山聡は矢沢亜美のチームリーダーです。もしあなた\\n   が彼の立場だったら矢沢亜美が...</td>\n",
       "      <td>山田隆と稲山聡の関係をあなたはどう描写しますか？</td>\n",
       "      <td>稲山聡が山田隆に対して思っているこ\\n     とをあなたはどう思いますか？</td>\n",
       "      <td>稲山聡のような社員を上司はどう扱う\\n     べきだとあなたは思いますか？</td>\n",
       "      <td>あなたがチームのメンバーだったら\\n     プレゼンテーションが上手くいくために...</td>\n",
       "      <td>このミスは結局だれの責任\\n     だとあなたは思いますか？</td>\n",
       "      <td>山田隆が直面する状況をあ\\n     なたはどう思いますか？</td>\n",
       "      <td>None</td>\n",
       "      <td>None</td>\n",
       "      <td>None</td>\n",
       "    </tr>\n",
       "    <tr>\n",
       "      <th>5C3706BFB5997B32B4CEAA9E</th>\n",
       "      <td>None</td>\n",
       "      <td>None</td>\n",
       "      <td>None</td>\n",
       "      <td>None</td>\n",
       "      <td>None</td>\n",
       "      <td>4.4375</td>\n",
       "      <td>2.875000</td>\n",
       "      <td>4.50</td>\n",
       "      <td>2.666667</td>\n",
       "      <td>3.96875</td>\n",
       "      <td>2.0</td>\n",
       "      <td>2.0</td>\n",
       "      <td>1.0</td>\n",
       "      <td>4.0</td>\n",
       "      <td>1.0</td>\n",
       "      <td>2.0</td>\n",
       "      <td>4.0</td>\n",
       "      <td>3.0</td>\n",
       "      <td>4.0</td>\n",
       "      <td>4.0</td>\n",
       "      <td>2.0</td>\n",
       "      <td>1.0</td>\n",
       "      <td>2.0</td>\n",
       "      <td>2.0</td>\n",
       "      <td>2.0</td>\n",
       "      <td>1.0</td>\n",
       "      <td>2.0</td>\n",
       "      <td>3.0</td>\n",
       "      <td>4.0</td>\n",
       "      <td>4.0</td>\n",
       "      <td>NaN</td>\n",
       "      <td>NaN</td>\n",
       "      <td>NaN</td>\n",
       "      <td>Image_Dog</td>\n",
       "      <td>稲山聡を介入して問題の解決を考えてもらう。</td>\n",
       "      <td>彼のひどい仕事ぶりに同情チェックが\\n足りなかった自分に多少責任を感じる。</td>\n",
       "      <td>人情</td>\n",
       "      <td>真面目</td>\n",
       "      <td>稲谷聡に、間違いが完全に修正される\\nまで仕事を続けたいと伝え、残りのチ\\nームを集めて助け...</td>\n",
       "      <td>このミスはチームの相談と支援\\n体制の欠陥から生まれたものだと思う。</td>\n",
       "      <td>3</td>\n",
       "      <td>チームメンバーはお互いに助け合うべき\\nだと思うので妥当と思う。</td>\n",
       "      <td>矢沢亜美は榎原たかるを好きではない。</td>\n",
       "      <td>失望を感じる。榎原たかるのミスをから\\nもっと早くにチェックするべきだったと思う。</td>\n",
       "      <td>1</td>\n",
       "      <td>プライベートの大事な催しがある同じ\\n日に重要なプレゼンテーションを予定\\nしてはならないと思う。</td>\n",
       "      <td>結婚式に間に合うように全力を尽くして手伝う。</td>\n",
       "      <td>緊張感のある仕事上の関係。</td>\n",
       "      <td>稲山聡は山田隆を厳しすぎると思う。</td>\n",
       "      <td>社員が結果を達成する限り、彼らがどう\\n行動しようと上司は煩わされない。</td>\n",
       "      <td>チームメンバーが最善の努力を尽くすことを信じる。</td>\n",
       "      <td>チーム全員が等しくこのミスの責任者だと思う。</td>\n",
       "      <td>状況は明らかに難しいが、\\nそれが上司の仕事の一部だと思う。</td>\n",
       "      <td>None</td>\n",
       "      <td>None</td>\n",
       "      <td>None</td>\n",
       "      <td>4.928571</td>\n",
       "      <td>4.4375</td>\n",
       "      <td>2.590909</td>\n",
       "      <td>2.875000</td>\n",
       "      <td>3.291667</td>\n",
       "      <td>2.666667</td>\n",
       "      <td>3.375</td>\n",
       "      <td>3.875</td>\n",
       "      <td>2.896552</td>\n",
       "      <td>4.378378</td>\n",
       "      <td>NaN</td>\n",
       "      <td>NaN</td>\n",
       "      <td>あなたが一番好きな動物は何ですか？</td>\n",
       "      <td>あなたが矢沢亜美だったらどう対応しますか？</td>\n",
       "      <td>あなたが矢沢亜美だったら榎原たかる\\n   のことをどう思いますか？</td>\n",
       "      <td>これまでのあなたの印象では稲山聡\\n　はどういう性格の持ち主ですか？</td>\n",
       "      <td>これまでのあなたの印象では上司とし\\n   て山田隆はどういう性格の持ち主ですか？</td>\n",
       "      <td>あなたが榎原たかるだったらどう対応しますか？</td>\n",
       "      <td>この状況で発生したミスについてあな\\n    たはどう思いますか？</td>\n",
       "      <td>1から6のスケールの中で榎原たかる\\n の矢沢亜美への要求を あなたはどう評価しますか？</td>\n",
       "      <td>矢沢亜美が榎原たかるをフォローしてくれる\\n    という榎原たかるの期待をあなたは...</td>\n",
       "      <td>榎原たかると矢沢亜美の関係を\\n    あなたはどう描写しますか？</td>\n",
       "      <td>矢沢亜美についてどう思いますか？</td>\n",
       "      <td>1から6のスケールの中で山田隆の矢沢\\n   亜美へのリクエストをどう評価しますか？</td>\n",
       "      <td>山田隆が姉の結婚式より仕事を優先し\\n     てほしいと矢沢亜美に要求する状況を...</td>\n",
       "      <td>稲山聡は矢沢亜美のチームリーダーです。もしあなた\\n   が彼の立場だったら矢沢亜美が...</td>\n",
       "      <td>山田隆と稲山聡の関係をあなたはどう描写しますか？</td>\n",
       "      <td>稲山聡が山田隆に対して思っているこ\\n     とをあなたはどう思いますか？</td>\n",
       "      <td>稲山聡のような社員を上司はどう扱う\\n     べきだとあなたは思いますか？</td>\n",
       "      <td>あなたがチームのメンバーだったら\\n     プレゼンテーションが上手くいくために...</td>\n",
       "      <td>このミスは結局だれの責任\\n     だとあなたは思いますか？</td>\n",
       "      <td>山田隆が直面する状況をあ\\n     なたはどう思いますか？</td>\n",
       "      <td>None</td>\n",
       "      <td>None</td>\n",
       "      <td>None</td>\n",
       "    </tr>\n",
       "  </tbody>\n",
       "</table>\n",
       "</div>"
      ],
      "text/plain": [
       "                         pzl.site_name.0 pzl.stress.0 pzl.stress.1 pzl.stress.2 pzl.stress.3  sjt.C#.Collegial Behavior  sjt.C#.Conscientiousness  sjt.C#.EQ  sjt.C#.Empathy  sjt.C#.Knowledge Of Social Organizational Norms  sjt.SJTRoundUserAnswers.0  sjt.SJTRoundUserAnswers.1  sjt.SJTRoundUserAnswers.2  sjt.SJTRoundUserAnswers.3  sjt.SJTRoundUserAnswers.4  sjt.SJTRoundUserAnswers.5  sjt.SJTRoundUserAnswers.6  sjt.SJTRoundUserAnswers.7  sjt.SJTRoundUserAnswers.8  sjt.SJTRoundUserAnswers.9  sjt.SJTRoundUserAnswers.10  sjt.SJTRoundUserAnswers.11  sjt.SJTRoundUserAnswers.12  sjt.SJTRoundUserAnswers.13  sjt.SJTRoundUserAnswers.14  sjt.SJTRoundUserAnswers.15  sjt.SJTRoundUserAnswers.16  sjt.SJTRoundUserAnswers.17  sjt.SJTRoundUserAnswers.18  sjt.SJTRoundUserAnswers.19  sjt.SJTRoundUserAnswers.20  sjt.SJTRoundUserAnswers.21  sjt.SJTRoundUserAnswers.22 sjt.SJTRoundUserAnswersString.0 sjt.SJTRoundUserAnswersString.1        sjt.SJTRoundUserAnswersString.2 sjt.SJTRoundUserAnswersString.3  \\\n",
       "5C34B4463DDA6707662C0BE9            None         None         None         None         None                     4.4375                  4.541667       4.50        1.833333                                          4.43750                        2.0                        2.0                        3.0                        1.0                        1.0                        1.0                        3.0                        4.7                        1.0                        1.0                         2.0                         2.7                         3.0                         1.0                         4.0                         3.0                         1.0                         4.0                         2.0                         2.0                         NaN                         NaN                         NaN                       Image_Dog           稲山聡を介入して問題の解決を考えてもらう。                  こんなことは自分にはありえないと失望する。                              傲慢   \n",
       "5C3554E43DDA6707662C0BEC            None         None         None         None         None                     1.0000                  1.000000       1.00        1.000000                                          1.46875                       -1.0                       -1.0                       -1.0                       -1.0                       -1.0                       -1.0                       -1.0                       -1.0                       -1.0                       -1.0                        -1.0                        -1.0                        -1.0                        -1.0                        -1.0                        -1.0                        -1.0                        -1.0                        -1.0                        -1.0                         NaN                         NaN                         NaN                            null                            null                                   null                            null   \n",
       "5C36FEEBB5997B32B4CEAA9C            None         None         None         None         None                     4.4375                  3.916667       4.25        2.458333                                          4.59375                        3.0                        2.0                        1.0                        3.0                        2.0                        3.0                        1.0                        3.5                        4.0                        3.0                         3.0                         2.5                         4.0                         1.0                         4.0                         2.0                         3.0                         2.0                         4.0                         2.0                         NaN                         NaN                         NaN                     Image_Horse           稲山聡を介入して問題の解決を考えてもらう。  彼のひどい仕事ぶりに同情チェックが\\n足りなかった自分に多少責任を感じる。                            ナーバス   \n",
       "5C370638B5997B32B4CEAA9D            None         None         None         None         None                     4.4375                  4.125000       3.00        3.291667                                          4.59375                        3.0                        2.0                        3.0                        1.0                        4.0                        2.0                        3.0                        3.5                        2.0                        4.0                         1.0                         1.0                         3.0                         2.0                         3.0                         4.0                         3.0                         1.0                         2.0                         2.0                         NaN                         NaN                         NaN                     Image_Horse           稲山聡を介入して問題の解決を考えてもらう。                  こんなことは自分にはありえないと失望する。                              傲慢   \n",
       "5C3706BFB5997B32B4CEAA9E            None         None         None         None         None                     4.4375                  2.875000       4.50        2.666667                                          3.96875                        2.0                        2.0                        1.0                        4.0                        1.0                        2.0                        4.0                        3.0                        4.0                        4.0                         2.0                         1.0                         2.0                         2.0                         2.0                         1.0                         2.0                         3.0                         4.0                         4.0                         NaN                         NaN                         NaN                       Image_Dog           稲山聡を介入して問題の解決を考えてもらう。  彼のひどい仕事ぶりに同情チェックが\\n足りなかった自分に多少責任を感じる。                              人情   \n",
       "\n",
       "                         sjt.SJTRoundUserAnswersString.4                    sjt.SJTRoundUserAnswersString.5            sjt.SJTRoundUserAnswersString.6 sjt.SJTRoundUserAnswersString.7           sjt.SJTRoundUserAnswersString.8 sjt.SJTRoundUserAnswersString.9            sjt.SJTRoundUserAnswersString.10 sjt.SJTRoundUserAnswersString.11                   sjt.SJTRoundUserAnswersString.12    sjt.SJTRoundUserAnswersString.13 sjt.SJTRoundUserAnswersString.14 sjt.SJTRoundUserAnswersString.15               sjt.SJTRoundUserAnswersString.16                   sjt.SJTRoundUserAnswersString.17         sjt.SJTRoundUserAnswersString.18       sjt.SJTRoundUserAnswersString.19 sjt.SJTRoundUserAnswersString.20 sjt.SJTRoundUserAnswersString.21 sjt.SJTRoundUserAnswersString.22  sjt.SJTRoundUserAnswers_collegial_behavior_heb  sjt.SJTRoundUserAnswers_collegial_behavior_jap  sjt.SJTRoundUserAnswers_consienciousness_heb  sjt.SJTRoundUserAnswers_consienciousness_jap  sjt.SJTRoundUserAnswers_empathy_heb  \\\n",
       "5C34B4463DDA6707662C0BE9                             真面目                   給料が下がり家族に迷惑をかけること\\nになるだろうが責任を取る。  それは起こるべきではなかったが、人\\n間のやることには間違いは常に存在すると思う。                             4.7  このような期待は非常に不合理そして\\n不公平で矢沢亜美を難しい立場に置くと思う。                        友達関係の同僚。  失望を感じる。海老原たかるのミスをから\\nもっと早くにチェックするべきだったと思う。                              2.7  山田隆の側も理解するが、結局のところ、\\nそのようなことを聞くこと自体、部下のやる気を\\n損...  自分の立場を犠牲にしてでも彼女が早く\\n出れるように上司に説得する。                     ひそかに競争しあう関係。       稲山聡は山田隆を完璧ではないがいい\\n上司だと思う。  上司は稲谷佐知さんのような社員に、\\n自身の領域の中で正当な自由を与える\\nべきだと思う。  クライアントは気に入らないだろう\\nが、完璧なプレゼンテーションを作る\\nために会議を延期す...  各社員が自身の成功と失敗の責任を\\n取るべきなので海老原たかるの責任だと思う。  かなり厳しい状況、社員の欠点と能力を\\nもっと認識し監督するべきだと思う。                             None                             None                             None                                        4.928571                                          4.4375                                      4.863636                                      4.541667                             1.833333   \n",
       "5C3554E43DDA6707662C0BEC                            null                                               null                                       null                            null                                      null                            null                                        null                             null                                               null                                null                             null                             null                                           null                                               null                                     null                                   null                             None                             None                             None                                             NaN                                             NaN                                           NaN                                           NaN                                  NaN   \n",
       "5C36FEEBB5997B32B4CEAA9C                           信頼できる                 稲山聡に謝り、正しいデータが出るま\\nで会議を延期するよう要求する。     このようなミスを避けるために、常に\\n仕事をチェックすることが重要だと思う。                             3.5          チームメンバーはお互いに助け合うべき\\nだと思うので妥当と思う。                    緊張した関係にある同僚。                      感情に左右されずもっと強くあるべきだと思う。                              2.5  上司として、この問題を解決しようと\\nし、社員をこのような困難なジレンマ\\nに陥らせてはなら...  自分の立場を犠牲にしてでも彼女が早く\\n出れるように上司に説得する。                     ひそかに競争しあう関係。                   稲山聡は山田隆を尊敬しない。        上司は稲山聡のような社員を励まし賞賛\\nしながら 成長させるのが賢明だと思う。                        このような状況では上司が\\n主導権を握るべきだと思う。                   チーム全員が等しくこのミスの責任者だと思う。  かなり厳しい状況、社員の欠点と能力を\\nもっと認識し監督するべきだと思う。                             None                             None                             None                                        4.928571                                          4.4375                                      4.409091                                      3.916667                             2.875000   \n",
       "5C370638B5997B32B4CEAA9D                              厳格  稲谷聡に、間違いが完全に修正される\\nまで仕事を続けたいと伝え、残りのチ\\nームを集めて助け...  それは起こるべきではなかったが、人\\n間のやることには間違いは常に存在すると思う。                             3.5      榎原たかるは他人に頼らないでミス\\nを犯さないよう努力するべきだと思う。              矢沢亜美は榎原たかるを好きではない。                      非常に厳しい状況におかれてかわいそうに思う。                                1  山田隆の側も理解するが、結局のところ、\\nそのようなことを聞くこと自体、部下のやる気を\\n損...              結婚式に間に合うように全力を尽くして手伝う。                      一緒に仕事をする友人。      稲山聡は山田隆をフランクに話せるい\\nい同僚だと思う。        上司は稲山聡のような社員を励まし賞賛\\nしながら 成長させるのが賢明だと思う。               プレゼンテーションが時間どうりに\\n行われるようできるだけの責任を負う。   各社員が自身の成功と失敗の責任を\\n取るべきなので榎原たかるの責任だと思う。  かなり厳しい状況、社員の欠点と能力を\\nもっと認識し監督するべきだと思う。                             None                             None                             None                                        4.928571                                          4.4375                                      3.500000                                      4.125000                             3.291667   \n",
       "5C3706BFB5997B32B4CEAA9E                             真面目  稲谷聡に、間違いが完全に修正される\\nまで仕事を続けたいと伝え、残りのチ\\nームを集めて助け...         このミスはチームの相談と支援\\n体制の欠陥から生まれたものだと思う。                               3          チームメンバーはお互いに助け合うべき\\nだと思うので妥当と思う。              矢沢亜美は榎原たかるを好きではない。   失望を感じる。榎原たかるのミスをから\\nもっと早くにチェックするべきだったと思う。                                1  プライベートの大事な催しがある同じ\\n日に重要なプレゼンテーションを予定\\nしてはならないと思う。              結婚式に間に合うように全力を尽くして手伝う。                    緊張感のある仕事上の関係。                稲山聡は山田隆を厳しすぎると思う。           社員が結果を達成する限り、彼らがどう\\n行動しようと上司は煩わされない。                           チームメンバーが最善の努力を尽くすことを信じる。                   チーム全員が等しくこのミスの責任者だと思う。         状況は明らかに難しいが、\\nそれが上司の仕事の一部だと思う。                             None                             None                             None                                        4.928571                                          4.4375                                      2.590909                                      2.875000                             3.291667   \n",
       "\n",
       "                          sjt.SJTRoundUserAnswers_empathy_jap  sjt.SJTRoundUserAnswers_eq_heb  sjt.SJTRoundUserAnswers_eq_jap  sjt.SJTRoundUserAnswers_knowledge_of_norms_heb  sjt.SJTRoundUserAnswers_knowledge_of_norms_jap  sjt.SJTRoundUserAnswers_teamwork_heb  sjt.SJTRoundUserAnswers_teamwork_jap sjt.SJTRoundUserQuestions.0 sjt.SJTRoundUserQuestions.1             sjt.SJTRoundUserQuestions.2            sjt.SJTRoundUserQuestions.3                   sjt.SJTRoundUserQuestions.4  sjt.SJTRoundUserQuestions.5            sjt.SJTRoundUserQuestions.6                    sjt.SJTRoundUserQuestions.7                        sjt.SJTRoundUserQuestions.8             sjt.SJTRoundUserQuestions.9 sjt.SJTRoundUserQuestions.10                   sjt.SJTRoundUserQuestions.11                       sjt.SJTRoundUserQuestions.12                       sjt.SJTRoundUserQuestions.13  sjt.SJTRoundUserQuestions.14                 sjt.SJTRoundUserQuestions.15                 sjt.SJTRoundUserQuestions.16  \\\n",
       "5C34B4463DDA6707662C0BE9                             1.833333                           4.125                           3.875                                        3.241379                                        4.648649                                   NaN                                   NaN           あなたが一番好きな動物は何ですか？       あなたが矢沢亜美だったらどう対応しますか？     あなたが矢沢亜美だったら海老原た\\n   かるのことをどう思いますか？     これまでのあなたの印象では稲山聡\\n　はどういう性格の持ち主ですか？     これまでのあなたの印象では上司とし\\n   て山田隆はどういう性格の持ち主ですか？      あなたが海老原たかるだったらどう対応しますか？      この状況で発生したミスについてあな\\n    たはどう思いますか？   1から6のスケールの中で海老原たかる\\n の矢沢亜美への要求をあなたはどう評価しますか？      矢沢亜美が海老原たかるをフォローしてくれる\\n    という海老原の期待をあなたはど...      海老原たかると矢沢亜美の関係を\\n    あなたはどう描写しますか？             矢沢亜美についてどう思いますか？     1から6のスケールの中で山田隆の矢沢\\n   亜美へのリクエストをどう評価しますか？       山田隆が姉の結婚式より仕事を優先し\\n     てほしいと矢沢亜美に要求する状況を...     稲山聡は矢沢亜美のチームリーダーです。もしあなた\\n   が彼の立場だったら矢沢亜美が...      山田隆と稲山聡の関係をあなたはどう描写しますか？       稲山聡が山田隆に対して思っているこ\\n     とをあなたはどう思いますか？       稲山聡のような社員を上司はどう扱う\\n     べきだとあなたは思いますか？   \n",
       "5C3554E43DDA6707662C0BEC                                  NaN                             NaN                             NaN                                             NaN                                             NaN                                   NaN                                   NaN           あなたが一番好きな動物は何ですか？       あなたが矢沢亜美だったらどう対応しますか？     あなたが矢沢亜美だったら海老原た\\n   かるのことをどう思いますか？     これまでのあなたの印象では稲山聡\\n　はどういう性格の持ち主ですか？     これまでのあなたの印象では上司とし\\n   て山田隆はどういう性格の持ち主ですか？      あなたが海老原たかるだったらどう対応しますか？      この状況で発生したミスについてあな\\n    たはどう思いますか？   1から6のスケールの中で海老原たかる\\n の矢沢亜美への要求をあなたはどう評価しますか？      矢沢亜美が海老原たかるをフォローしてくれる\\n    という海老原の期待をあなたはど...      海老原たかると矢沢亜美の関係を\\n    あなたはどう描写しますか？             矢沢亜美についてどう思いますか？     1から6のスケールの中で山田隆の矢沢\\n   亜美へのリクエストをどう評価しますか？       山田隆が姉の結婚式より仕事を優先し\\n     てほしいと矢沢亜美に要求する状況を...     稲山聡は矢沢亜美のチームリーダーです。もしあなた\\n   が彼の立場だったら矢沢亜美が...      山田隆と稲山聡の関係をあなたはどう描写しますか？       稲山聡が山田隆に対して思っているこ\\n     とをあなたはどう思いますか？       稲山聡のような社員を上司はどう扱う\\n     べきだとあなたは思いますか？   \n",
       "5C36FEEBB5997B32B4CEAA9C                             2.458333                           4.875                           4.500                                        4.275862                                        4.648649                                   NaN                                   NaN           あなたが一番好きな動物は何ですか？       あなたが矢沢亜美だったらどう対応しますか？      あなたが矢沢亜美だったら榎原たかる\\n   のことをどう思いますか？     これまでのあなたの印象では稲山聡\\n　はどういう性格の持ち主ですか？     これまでのあなたの印象では上司とし\\n   て山田隆はどういう性格の持ち主ですか？       あなたが榎原たかるだったらどう対応しますか？      この状況で発生したミスについてあな\\n    たはどう思いますか？   1から6のスケールの中で榎原たかる\\n の矢沢亜美への要求を あなたはどう評価しますか？      矢沢亜美が榎原たかるをフォローしてくれる\\n    という榎原たかるの期待をあなたは...       榎原たかると矢沢亜美の関係を\\n    あなたはどう描写しますか？             矢沢亜美についてどう思いますか？     1から6のスケールの中で山田隆の矢沢\\n   亜美へのリクエストをどう評価しますか？       山田隆が姉の結婚式より仕事を優先し\\n     てほしいと矢沢亜美に要求する状況を...     稲山聡は矢沢亜美のチームリーダーです。もしあなた\\n   が彼の立場だったら矢沢亜美が...      山田隆と稲山聡の関係をあなたはどう描写しますか？       稲山聡が山田隆に対して思っているこ\\n     とをあなたはどう思いますか？       稲山聡のような社員を上司はどう扱う\\n     べきだとあなたは思いますか？   \n",
       "5C370638B5997B32B4CEAA9D                             3.291667                           3.500                           3.625                                        3.758621                                        4.918919                                   NaN                                   NaN           あなたが一番好きな動物は何ですか？       あなたが矢沢亜美だったらどう対応しますか？      あなたが矢沢亜美だったら榎原たかる\\n   のことをどう思いますか？     これまでのあなたの印象では稲山聡\\n　はどういう性格の持ち主ですか？     これまでのあなたの印象では上司とし\\n   て山田隆はどういう性格の持ち主ですか？       あなたが榎原たかるだったらどう対応しますか？      この状況で発生したミスについてあな\\n    たはどう思いますか？   1から6のスケールの中で榎原たかる\\n の矢沢亜美への要求を あなたはどう評価しますか？      矢沢亜美が榎原たかるをフォローしてくれる\\n    という榎原たかるの期待をあなたは...       榎原たかると矢沢亜美の関係を\\n    あなたはどう描写しますか？             矢沢亜美についてどう思いますか？     1から6のスケールの中で山田隆の矢沢\\n   亜美へのリクエストをどう評価しますか？       山田隆が姉の結婚式より仕事を優先し\\n     てほしいと矢沢亜美に要求する状況を...     稲山聡は矢沢亜美のチームリーダーです。もしあなた\\n   が彼の立場だったら矢沢亜美が...      山田隆と稲山聡の関係をあなたはどう描写しますか？       稲山聡が山田隆に対して思っているこ\\n     とをあなたはどう思いますか？       稲山聡のような社員を上司はどう扱う\\n     べきだとあなたは思いますか？   \n",
       "5C3706BFB5997B32B4CEAA9E                             2.666667                           3.375                           3.875                                        2.896552                                        4.378378                                   NaN                                   NaN           あなたが一番好きな動物は何ですか？       あなたが矢沢亜美だったらどう対応しますか？      あなたが矢沢亜美だったら榎原たかる\\n   のことをどう思いますか？     これまでのあなたの印象では稲山聡\\n　はどういう性格の持ち主ですか？     これまでのあなたの印象では上司とし\\n   て山田隆はどういう性格の持ち主ですか？       あなたが榎原たかるだったらどう対応しますか？      この状況で発生したミスについてあな\\n    たはどう思いますか？   1から6のスケールの中で榎原たかる\\n の矢沢亜美への要求を あなたはどう評価しますか？      矢沢亜美が榎原たかるをフォローしてくれる\\n    という榎原たかるの期待をあなたは...       榎原たかると矢沢亜美の関係を\\n    あなたはどう描写しますか？             矢沢亜美についてどう思いますか？     1から6のスケールの中で山田隆の矢沢\\n   亜美へのリクエストをどう評価しますか？       山田隆が姉の結婚式より仕事を優先し\\n     てほしいと矢沢亜美に要求する状況を...     稲山聡は矢沢亜美のチームリーダーです。もしあなた\\n   が彼の立場だったら矢沢亜美が...      山田隆と稲山聡の関係をあなたはどう描写しますか？       稲山聡が山田隆に対して思っているこ\\n     とをあなたはどう思いますか？       稲山聡のような社員を上司はどう扱う\\n     べきだとあなたは思いますか？   \n",
       "\n",
       "                                               sjt.SJTRoundUserQuestions.17          sjt.SJTRoundUserQuestions.18         sjt.SJTRoundUserQuestions.19 sjt.SJTRoundUserQuestions.20 sjt.SJTRoundUserQuestions.21 sjt.SJTRoundUserQuestions.22  \n",
       "5C34B4463DDA6707662C0BE9       あなたがチームのメンバーだったらプレゼンテーシ\\n     ョンが上手くいくために...       このミスは結局だれの責任\\n     だとあなたは思いますか？       山田隆が直面する状況をあ\\n     なたはどう思いますか？                         None                         None                         None  \n",
       "5C3554E43DDA6707662C0BEC       あなたがチームのメンバーだったらプレゼンテーシ\\n     ョンが上手くいくために...       このミスは結局だれの責任\\n     だとあなたは思いますか？       山田隆が直面する状況をあ\\n     なたはどう思いますか？                         None                         None                         None  \n",
       "5C36FEEBB5997B32B4CEAA9C       あなたがチームのメンバーだったら\\n     プレゼンテーションが上手くいくために...       このミスは結局だれの責任\\n     だとあなたは思いますか？       山田隆が直面する状況をあ\\n     なたはどう思いますか？                         None                         None                         None  \n",
       "5C370638B5997B32B4CEAA9D       あなたがチームのメンバーだったら\\n     プレゼンテーションが上手くいくために...       このミスは結局だれの責任\\n     だとあなたは思いますか？       山田隆が直面する状況をあ\\n     なたはどう思いますか？                         None                         None                         None  \n",
       "5C3706BFB5997B32B4CEAA9E       あなたがチームのメンバーだったら\\n     プレゼンテーションが上手くいくために...       このミスは結局だれの責任\\n     だとあなたは思いますか？       山田隆が直面する状況をあ\\n     なたはどう思いますか？                         None                         None                         None  "
      ]
     },
     "execution_count": 11,
     "metadata": {},
     "output_type": "execute_result"
    }
   ],
   "source": [
    "# sort columns in alphabetical order\n",
    "\n",
    "a = [];\n",
    "for col in sorted(df.columns):\n",
    "    a.append(col)\n",
    "    \n",
    "import re\n",
    "\n",
    "def atoi(text):\n",
    "    return int(text) if text.isdigit() else text\n",
    "\n",
    "def natural_keys(text):\n",
    "    return [ atoi(c) for c in re.split('(\\d+)', text) ]\n",
    "\n",
    "a.sort(key=natural_keys)\n",
    "\n",
    "df=df[a]\n",
    "\n",
    "#df=df[np.logical_not(df.index.str.startswith('W'))]\n",
    "df.head()"
   ]
  },
  {
   "cell_type": "code",
   "execution_count": 12,
   "metadata": {},
   "outputs": [
    {
     "name": "stdout",
     "output_type": "stream",
     "text": [
      "\n",
      "\n",
      "\n",
      " 1 :  あなたが一番好きな動物は何ですか？\n",
      "1 - Image_Cat\n",
      "26.1 %\n",
      "\n",
      "2 - Image_Dog\n",
      "60.9 %\n",
      "\n",
      "3 - Image_Dont like animals\n",
      "1.7 %\n",
      "\n",
      "4 - Image_Horse\n",
      "7.8 %\n",
      "\n",
      "5 - User has not answer this question\n",
      "1.7 %\n",
      "\n",
      "6 - null\n",
      "1.7 %\n",
      "\n"
     ]
    },
    {
     "data": {
      "image/png": "[encoded data removed]",
      "text/plain": [
       "<Figure size 432x288 with 1 Axes>"
      ]
     },
     "metadata": {
      "needs_background": "light"
     },
     "output_type": "display_data"
    },
    {
     "name": "stdout",
     "output_type": "stream",
     "text": [
      "\n",
      "\n",
      "\n",
      " 2 :  あなたが矢沢亜美だったらどう対応しますか？\n",
      "1 - null\n",
      "1.7 %\n",
      "\n",
      "2 - 。るす求要うよるす慮考を策決解う違え伝とる\n",
      "あで平公不が求要の彼にるかた原榎\n",
      "2.6 %\n",
      "\n",
      "3 - 。る取を任責で分自てしーロォフをるかた原榎\n",
      "6.1 %\n",
      "\n",
      "4 - 。るす求要うよるす慮考を策決解う違え伝とる\n",
      "あで平公不が求要の彼にるかた原老海\n",
      "0.9 %\n",
      "\n",
      "5 - 。うらもてし解理とだ任責のちた分自、し罪\n",
      "謝に聡山稲にもととるかた原榎に聡山稲\n",
      "31.3 %\n",
      "\n",
      "6 - 。うらもてえ考を決解の題問てし入介を聡山稲\n",
      "57.4 %\n",
      "\n"
     ]
    },
    {
     "data": {
      "image/png": "[encoded data removed]",
      "text/plain": [
       "<Figure size 432x288 with 1 Axes>"
      ]
     },
     "metadata": {
      "needs_background": "light"
     },
     "output_type": "display_data"
    },
    {
     "name": "stdout",
     "output_type": "stream",
     "text": [
      "\n",
      "\n",
      "\n",
      " 3 :    あなたが矢沢亜美だったら海老原た\n",
      "   かるのことをどう思いますか？\n",
      "1 - null\n",
      "1.7 %\n",
      "\n",
      "2 - 。るす望失といなえりあはに分自はとこなんこ\n",
      "4.3 %\n",
      "\n",
      "3 - 。るじ感を任責少多に分自たっかなり足がクッェチ\n",
      "19.1 %\n",
      "\n",
      "4 - 。るす力努とうよけ助し情同に彼\n",
      "10.4 %\n",
      "\n",
      "5 - 。るじ感を任責少多に分自たっかなり足\n",
      "がクッェチ情同にりぶ事仕いどひの彼\n",
      "57.4 %\n",
      "\n",
      "6 - 。るじ感をり怒にスミのし返り繰の彼\n",
      "7.0 %\n",
      "\n"
     ]
    },
    {
     "data": {
      "image/png": "[encoded data removed]",
      "text/plain": [
       "<Figure size 432x288 with 1 Axes>"
      ]
     },
     "metadata": {
      "needs_background": "light"
     },
     "output_type": "display_data"
    },
    {
     "name": "stdout",
     "output_type": "stream",
     "text": [
      "\n",
      "\n",
      "\n",
      " 4 :    これまでのあなたの印象では稲山聡\n",
      "　はどういう性格の持ち主ですか？\n",
      "1 - null\n",
      "1.7 %\n",
      "\n",
      "2 - スバーナ\n",
      "38.3 %\n",
      "\n",
      "3 - 情人\n",
      "4.3 %\n",
      "\n",
      "4 - 慢傲\n",
      "47.0 %\n",
      "\n",
      "5 - 的情感\n",
      "8.7 %\n",
      "\n"
     ]
    },
    {
     "data": {
      "image/png": "[encoded data removed]",
      "text/plain": [
       "<Figure size 432x288 with 1 Axes>"
      ]
     },
     "metadata": {
      "needs_background": "light"
     },
     "output_type": "display_data"
    },
    {
     "name": "stdout",
     "output_type": "stream",
     "text": [
      "\n",
      "\n",
      "\n",
      " 5 :    これまでのあなたの印象では上司とし\n",
      "   て山田隆はどういう性格の持ち主ですか？\n",
      "1 - User has not answer this question\n",
      "0.9 %\n",
      "\n",
      "2 - null\n",
      "1.7 %\n",
      "\n",
      "3 - るきで頼信\n",
      "21.7 %\n",
      "\n",
      "4 - 格厳\n",
      "25.2 %\n",
      "\n",
      "5 - 腰嘩喧\n",
      "1.7 %\n",
      "\n",
      "6 - 目面真\n",
      "48.7 %\n",
      "\n"
     ]
    },
    {
     "data": {
      "image/png": "[encoded data removed]",
      "text/plain": [
       "<Figure size 432x288 with 1 Axes>"
      ]
     },
     "metadata": {
      "needs_background": "light"
     },
     "output_type": "display_data"
    },
    {
     "name": "stdout",
     "output_type": "stream",
     "text": [
      "\n",
      "\n",
      "\n",
      " 6 :     あなたが海老原たかるだったらどう対応しますか？\n",
      "1 - User has not answer this question\n",
      "0.9 %\n",
      "\n",
      "2 - null\n",
      "1.7 %\n",
      "\n",
      "3 - 。む頼うよるえらもてけ助てめ集をムー\n",
      "チのり残、え伝といたけ続を事仕でま\n",
      "るれさ正修に全完がい違間、に聡山稲\n",
      "16.5 %\n",
      "\n",
      "4 - 。るす求要うよるす期延を議会で\n",
      "まる出がターデいし正、り謝に聡山稲\n",
      "19.1 %\n",
      "\n",
      "5 - 。む頼うよるえらもてけ助てめ集をムー\n",
      "チのり残、え伝といたけ続を事仕でま\n",
      "るれさ正修に全完がい違間、に聡谷稲\n",
      "59.1 %\n",
      "\n",
      "6 - 。る取を任責がうろだるなに\n",
      "とこるけかを惑迷に族家りが下が料給\n",
      "2.6 %\n",
      "\n"
     ]
    },
    {
     "data": {
      "image/png": "[encoded data removed]",
      "text/plain": [
       "<Figure size 432x288 with 1 Axes>"
      ]
     },
     "metadata": {
      "needs_background": "light"
     },
     "output_type": "display_data"
    },
    {
     "name": "stdout",
     "output_type": "stream",
     "text": [
      "\n",
      "\n",
      "\n",
      " 7 :     この状況で発生したミスについてあな\n",
      "    たはどう思いますか？\n",
      "1 - null\n",
      "1.7 %\n",
      "\n",
      "2 - 。う思とだ要重がとこるすクッェチを事仕\n",
      "に常、にめたるけ避をスミなうよのこ\n",
      "39.1 %\n",
      "\n",
      "3 - 。う思とだのもたれま生らか陥欠の制体\n",
      "援支と談相のムーチはスミのこ\n",
      "41.7 %\n",
      "\n",
      "4 - 。う思とるす在存に常はい違間はにとこるやの間\n",
      "人、がたっかなはできべるこ起はれそ\n",
      "11.3 %\n",
      "\n",
      "5 - 。う思とだ司上は者任責、れ\n",
      "ら見くき大が陥欠の業作認確のムーチ\n",
      "6.1 %\n",
      "\n"
     ]
    },
    {
     "data": {
      "image/png": "[encoded data removed]",
      "text/plain": [
       "<Figure size 432x288 with 1 Axes>"
      ]
     },
     "metadata": {
      "needs_background": "light"
     },
     "output_type": "display_data"
    },
    {
     "name": "stdout",
     "output_type": "stream",
     "text": [
      "\n",
      "\n",
      "\n",
      " 8 :  1から6のスケールの中で海老原たかる\n",
      " の矢沢亜美への要求をあなたはどう評価しますか？\n",
      "23 - null\n",
      "1.7 %\n",
      "\n"
     ]
    },
    {
     "data": {
      "image/png": "[encoded data removed]",
      "text/plain": [
       "<Figure size 432x288 with 1 Axes>"
      ]
     },
     "metadata": {
      "needs_background": "light"
     },
     "output_type": "display_data"
    },
    {
     "name": "stdout",
     "output_type": "stream",
     "text": [
      "\n",
      "\n",
      "\n",
      " 9 :     矢沢亜美が海老原たかるをフォローしてくれる\n",
      "    という海老原の期待をあなたはどう思いますか？\n",
      "1 - null\n",
      "1.7 %\n",
      "\n",
      "2 - 。う思とく置に場立いし難を美亜沢矢で平公不\n",
      "てしそ理合不に常非は待期なうよのこ\n",
      "11.3 %\n",
      "\n",
      "3 - 。う思と当妥でのう思とだ\n",
      "きべう合け助にい互おはーバンメムーチ\n",
      "37.4 %\n",
      "\n",
      "4 - 。う思とだきべるす力努うよいなさ犯を\n",
      "スミでいなら頼に人他はるかた原榎\n",
      "45.2 %\n",
      "\n",
      "5 - 。う思とたきべつ待をのるすー\n",
      "ァフオをけ助が美亜沢矢\n",
      "0.9 %\n",
      "\n",
      "6 - 。う思とたきべつ待をのるす\n",
      "ーァフオをけ助が美亜沢矢\n",
      "3.5 %\n",
      "\n"
     ]
    },
    {
     "data": {
      "image/png": "[encoded data removed]",
      "text/plain": [
       "<Figure size 432x288 with 1 Axes>"
      ]
     },
     "metadata": {
      "needs_background": "light"
     },
     "output_type": "display_data"
    },
    {
     "name": "stdout",
     "output_type": "stream",
     "text": [
      "\n",
      "\n",
      "\n",
      " 10 :     海老原たかると矢沢亜美の関係を\n",
      "    あなたはどう描写しますか？\n",
      "1 - null\n",
      "1.7 %\n",
      "\n",
      "2 - 。僚同の係関達友\n",
      "1.7 %\n",
      "\n",
      "3 - 。いなはでき好をるかた原榎は美亜沢矢\n",
      "33.9 %\n",
      "\n",
      "4 - 。僚同るあに係関たし張緊\n",
      "61.7 %\n",
      "\n",
      "5 - 。人友いし親\n",
      "0.9 %\n",
      "\n"
     ]
    },
    {
     "data": {
      "image/png": "[encoded data removed]",
      "text/plain": [
       "<Figure size 432x288 with 1 Axes>"
      ]
     },
     "metadata": {
      "needs_background": "light"
     },
     "output_type": "display_data"
    },
    {
     "name": "stdout",
     "output_type": "stream",
     "text": [
      "\n",
      "\n",
      "\n",
      " 11 :      矢沢亜美についてどう思いますか？\n",
      "1 - null\n",
      "1.7 %\n",
      "\n",
      "2 - 。う思とたっだきべるすクッェチにく早とっも\n",
      "らかをスミのるかた原榎。るじ感を望失\n",
      "32.2 %\n",
      "\n",
      "3 - 。う思とたっだきべるすクッェチにく早とっも\n",
      "らかをスミのるかた原老海。るじ感を望失\n",
      "0.9 %\n",
      "\n",
      "4 - 。う思とだきべるあく強とっもずれさ右左に情感\n",
      "26.1 %\n",
      "\n",
      "5 - 。う思とるけつ見\n",
      "を策決解な切適らかだ員社の富豊験経\n",
      "22.6 %\n",
      "\n",
      "6 - 。う思にうそいわかてれかおに況状いし厳に常非\n",
      "16.5 %\n",
      "\n"
     ]
    },
    {
     "data": {
      "image/png": "[encoded data removed]",
      "text/plain": [
       "<Figure size 432x288 with 1 Axes>"
      ]
     },
     "metadata": {
      "needs_background": "light"
     },
     "output_type": "display_data"
    },
    {
     "name": "stdout",
     "output_type": "stream",
     "text": [
      "\n",
      "\n",
      "\n",
      " 12 :    1から6のスケールの中で山田隆の矢沢\n",
      "   亜美へのリクエストをどう評価しますか？\n",
      "29 - null\n",
      "2.6 %\n",
      "\n"
     ]
    },
    {
     "data": {
      "image/png": "[encoded data removed]",
      "text/plain": [
       "<Figure size 432x288 with 1 Axes>"
      ]
     },
     "metadata": {
      "needs_background": "light"
     },
     "output_type": "display_data"
    },
    {
     "name": "stdout",
     "output_type": "stream",
     "text": [
      "\n",
      "\n",
      "\n",
      " 13 :      山田隆が姉の結婚式より仕事を優先し\n",
      "     てほしいと矢沢亜美に要求する状況を\n",
      "     あなたはどう思いますか？\n",
      "1 - null\n",
      "2.6 %\n",
      "\n",
      "2 - 。う思といならなはてし\n",
      "定予をンョシーテンゼレプな要重に日\n",
      "じ同るあがし催な事大のトーベイラプ\n",
      "7.0 %\n",
      "\n",
      "3 - 。う思といならなはてせら陥に\n",
      "マンレジな難困なうよのこを員社、し\n",
      "とうよし決解を題問のこ、てしと司上\n",
      "61.7 %\n",
      "\n",
      "4 - 。るれらみが映反の敗失の側者営経るね損\n",
      "を気るやの下部、体自とこく聞をとこなうよのそ\n",
      "、ろことの局結、がるす解理も側の隆田山\n",
      "24.3 %\n",
      "\n",
      "5 - 。う思とだ求要な尽不理に常非\n",
      "4.3 %\n",
      "\n"
     ]
    },
    {
     "data": {
      "image/png": "[encoded data removed]",
      "text/plain": [
       "<Figure size 432x288 with 1 Axes>"
      ]
     },
     "metadata": {
      "needs_background": "light"
     },
     "output_type": "display_data"
    },
    {
     "name": "stdout",
     "output_type": "stream",
     "text": [
      "\n",
      "\n",
      "\n",
      " 14 :    稲山聡は矢沢亜美のチームリーダーです。もしあなた\n",
      "   が彼の立場だったら矢沢亜美が姉の結婚式を欠席する\n",
      "   ことを上司から要求される事態にどう対応しますか？\n",
      "1 - null\n",
      "2.6 %\n",
      "\n",
      "2 - \n",
      "。るす待期を加参の女彼、りあで要重に常非は\n",
      "力努の員全ムーチ、はで態事の急緊なうよのこ\n",
      "6.1 %\n",
      "\n",
      "3 - 。いなはでとこるめ決が私はに的終最、が\n",
      "るす解理をとこいなはでいせの女彼が況状のこ\n",
      "3.5 %\n",
      "\n",
      "4 - 。う伝手てしく尽を力全にうよう合に間に式婚結\n",
      "64.3 %\n",
      "\n",
      "5 - 。るす得説に司上にうよるれ出\n",
      "く早が女彼もでてしに牲犠を場立の分自\n",
      "23.5 %\n",
      "\n"
     ]
    },
    {
     "data": {
      "image/png": "[encoded data removed]",
      "text/plain": [
       "<Figure size 432x288 with 1 Axes>"
      ]
     },
     "metadata": {
      "needs_background": "light"
     },
     "output_type": "display_data"
    },
    {
     "name": "stdout",
     "output_type": "stream",
     "text": [
      "\n",
      "\n",
      "\n",
      " 15 :     山田隆と稲山聡の関係をあなたはどう描写しますか？\n",
      "1 - null\n",
      "2.6 %\n",
      "\n",
      "2 - 。係関うあし争競にかそひ\n",
      "21.7 %\n",
      "\n",
      "3 - 。人友るすを事仕に緒一\n",
      "1.7 %\n",
      "\n",
      "4 - 。係関の上事仕るあの感張緊\n",
      "51.3 %\n",
      "\n",
      "5 - 。係関うあしーバカをい互お、がるす争論に繁頻\n",
      "22.6 %\n",
      "\n"
     ]
    },
    {
     "data": {
      "image/png": "[encoded data removed]",
      "text/plain": [
       "<Figure size 432x288 with 1 Axes>"
      ]
     },
     "metadata": {
      "needs_background": "light"
     },
     "output_type": "display_data"
    },
    {
     "name": "stdout",
     "output_type": "stream",
     "text": [
      "\n",
      "\n",
      "\n",
      " 16 :      稲山聡が山田隆に対して思っているこ\n",
      "     とをあなたはどう思いますか？\n",
      "1 - null\n",
      "2.6 %\n",
      "\n",
      "2 - 。う思とだ僚同い\n",
      "いるせ話にクンラフを隆田山は聡山稲\n",
      "10.4 %\n",
      "\n",
      "3 - 。う思とるぎすし厳を隆田山は聡山稲\n",
      "42.6 %\n",
      "\n",
      "4 - 。う思とだ司上\n",
      "いいがいなはで璧完を隆田山は聡山稲\n",
      "10.4 %\n",
      "\n",
      "5 - 。いなし敬尊を隆田山は聡山稲\n",
      "33.9 %\n",
      "\n"
     ]
    },
    {
     "data": {
      "image/png": "[encoded data removed]",
      "text/plain": [
       "<Figure size 432x288 with 1 Axes>"
      ]
     },
     "metadata": {
      "needs_background": "light"
     },
     "output_type": "display_data"
    },
    {
     "name": "stdout",
     "output_type": "stream",
     "text": [
      "\n",
      "\n",
      "\n",
      " 17 :      稲山聡のような社員を上司はどう扱う\n",
      "     べきだとあなたは思いますか？\n",
      "1 - null\n",
      "2.6 %\n",
      "\n",
      "2 - 。う思とだきべ\n",
      "るえ与を由自な当正で中の域領の身自\n",
      "聡山稲は司上\n",
      "45.2 %\n",
      "\n",
      "3 - 。う思とだ明賢がのるせさ長成 らがなし\n",
      "賛賞しま励を員社なうよの聡山稲は司上\n",
      "46.1 %\n",
      "\n",
      "4 - 。う思とだきべ\n",
      "るえ与を由自な当正で中の域領の身自\n",
      "、に員社なうよのんさ知佐谷稲は司上\n",
      "0.9 %\n",
      "\n",
      "5 - 。いなれさわ煩は司上とうよし動行\n",
      "うどがら彼、り限るす成達を果結が員社\n",
      "2.6 %\n",
      "\n",
      "6 -  。るあが要必るす頼信を司上\n",
      "にめたるれ入け受を断決な切適は員社\n",
      "、りあで欠可不はに織組、は度制層階\n",
      "2.6 %\n",
      "\n"
     ]
    },
    {
     "data": {
      "image/png": "[encoded data removed]",
      "text/plain": [
       "<Figure size 432x288 with 1 Axes>"
      ]
     },
     "metadata": {
      "needs_background": "light"
     },
     "output_type": "display_data"
    },
    {
     "name": "stdout",
     "output_type": "stream",
     "text": [
      "\n",
      "\n",
      "\n",
      " 18 :      あなたがチームのメンバーだったらプレゼンテーシ\n",
      "     ョンが上手くいくためにどう行動しますか？\n",
      "1 - User has not answer this question\n",
      "0.9 %\n",
      "\n",
      "2 - null\n",
      "2.6 %\n",
      "\n",
      "3 - 。う思とだきべる握を権導主\n",
      "が司上はで況状なうよのこ\n",
      "14.8 %\n",
      "\n",
      "4 - 。るす得説にムーチをとこるす期延を議会にめた\n",
      "る作をンョシーテンゼレプな璧完、が\n",
      "うろだいなら入に気はトンアイラク\n",
      "0.9 %\n",
      "\n",
      "5 - 。るす得説にムーチをとこるす期延を議会にめた\n",
      "る作をンョシーテンゼレプな璧完\n",
      "、がうろだいなら入に気はトンアイラク\n",
      "39.1 %\n",
      "\n",
      "6 - 。るじ信をとこすく尽を力努の善最がーバンメムーチ\n",
      "3.5 %\n",
      "\n",
      "7 - 。う負を任責のけだるきでうよるれわ行\n",
      "にりうど間時がンョシーテンゼレプ\n",
      "38.3 %\n",
      "\n"
     ]
    },
    {
     "data": {
      "image/png": "[encoded data removed]",
      "text/plain": [
       "<Figure size 432x288 with 1 Axes>"
      ]
     },
     "metadata": {
      "needs_background": "light"
     },
     "output_type": "display_data"
    },
    {
     "name": "stdout",
     "output_type": "stream",
     "text": [
      "\n",
      "\n",
      "\n",
      " 19 :      このミスは結局だれの責任\n",
      "     だとあなたは思いますか？\n",
      "1 - null\n",
      "2.6 %\n",
      "\n",
      "2 - 。う思とだ者任責のスミのこくし等が員全ムーチ\n",
      "51.3 %\n",
      "\n",
      "3 - 。う思とだ任責の隆田山でのなきべるすを理処の\n",
      "事来出のてべするこ起で署部が司上\n",
      "28.7 %\n",
      "\n",
      "4 - 。う思とだ任責のるかた原榎でのなきべる取\n",
      "を任責の敗失と功成の身自が員社各\n",
      "4.3 %\n",
      "\n",
      "5 - 。う思とだ任責のるかた原老海でのなきべる取\n",
      "を任責の敗失と功成の身自が員社各\n",
      "0.9 %\n",
      "\n",
      "6 - 。う思とだ者任責の敗失のムーチに的終\n",
      "最、てしとーダーリムーチが聡山稲\n",
      "12.2 %\n",
      "\n"
     ]
    },
    {
     "data": {
      "image/png": "[encoded data removed]",
      "text/plain": [
       "<Figure size 432x288 with 1 Axes>"
      ]
     },
     "metadata": {
      "needs_background": "light"
     },
     "output_type": "display_data"
    },
    {
     "name": "stdout",
     "output_type": "stream",
     "text": [
      "\n",
      "\n",
      "\n",
      " 20 :      山田隆が直面する状況をあ\n",
      "     なたはどう思いますか？\n",
      "1 - null\n",
      "2.6 %\n",
      "\n",
      "2 - 。う思とだきべるす督監し識認とっも\n",
      "を力能と点欠の員社、況状いし厳りなか\n",
      "22.6 %\n",
      "\n",
      "3 - 。う思とたれらけ避は況状なうよのこ\n",
      "、ばれいてし督監く深意注とっもをムーチ\n",
      "43.5 %\n",
      "\n",
      "4 - 。う思とだ部一の事仕の司上がれそ\n",
      "、がいし難にから明は況状\n",
      "19.1 %\n",
      "\n",
      "5 - 。るいてじ感をスレトスくらそお\n",
      "、めたいないてし能機がムーチ\n",
      "、にのるいてし面直にンョシーテンゼレプな要重\n",
      "12.2 %\n",
      "\n"
     ]
    },
    {
     "data": {
      "image/png": "[encoded data removed]",
      "text/plain": [
       "<Figure size 432x288 with 1 Axes>"
      ]
     },
     "metadata": {
      "needs_background": "light"
     },
     "output_type": "display_data"
    },
    {
     "name": "stdout",
     "output_type": "stream",
     "text": [
      "\n",
      "\n",
      "\n",
      " 21 : None\n"
     ]
    },
    {
     "ename": "TypeError",
     "evalue": "'<' not supported between instances of 'str' and 'NoneType'",
     "output_type": "error",
     "traceback": [
      "\u001b[1;31m---------------------------------------------------------------------------\u001b[0m",
      "\u001b[1;31mTypeError\u001b[0m                                 Traceback (most recent call last)",
      "\u001b[1;32m<ipython-input-12-790bce6c9f9a>\u001b[0m in \u001b[0;36m<module>\u001b[1;34m()\u001b[0m\n\u001b[0;32m      4\u001b[0m     \u001b[0mprint\u001b[0m\u001b[1;33m(\u001b[0m\u001b[1;34m'\\n\\n\\n'\u001b[0m\u001b[1;33m,\u001b[0m\u001b[0mj\u001b[0m\u001b[1;33m+\u001b[0m\u001b[1;36m1\u001b[0m\u001b[1;33m,\u001b[0m\u001b[1;34m':'\u001b[0m\u001b[1;33m,\u001b[0m\u001b[0mdf\u001b[0m\u001b[1;33m[\u001b[0m\u001b[1;34m'sjt'\u001b[0m\u001b[1;33m+\u001b[0m\u001b[0msjt_n\u001b[0m\u001b[1;33m+\u001b[0m\u001b[1;34m'.SJTRoundUserQuestions.'\u001b[0m\u001b[1;33m+\u001b[0m\u001b[0mn\u001b[0m\u001b[1;33m]\u001b[0m\u001b[1;33m[\u001b[0m\u001b[1;36m0\u001b[0m\u001b[1;33m]\u001b[0m\u001b[1;33m)\u001b[0m\u001b[1;33m\u001b[0m\u001b[0m\n\u001b[0;32m      5\u001b[0m     \u001b[0mdf\u001b[0m\u001b[1;33m[\u001b[0m\u001b[1;34m'SJTRoundUserAnswers'\u001b[0m\u001b[1;33m+\u001b[0m\u001b[1;34m'_num.'\u001b[0m\u001b[1;33m+\u001b[0m\u001b[0mn\u001b[0m\u001b[1;33m]\u001b[0m \u001b[1;33m=\u001b[0m \u001b[0mpd\u001b[0m\u001b[1;33m.\u001b[0m\u001b[0mSeries\u001b[0m\u001b[1;33m(\u001b[0m\u001b[0mnp\u001b[0m\u001b[1;33m.\u001b[0m\u001b[0mzeros\u001b[0m\u001b[1;33m(\u001b[0m\u001b[0mdf\u001b[0m\u001b[1;33m.\u001b[0m\u001b[0mshape\u001b[0m\u001b[1;33m[\u001b[0m\u001b[1;36m0\u001b[0m\u001b[1;33m]\u001b[0m\u001b[1;33m)\u001b[0m\u001b[1;33m,\u001b[0m \u001b[0mindex\u001b[0m\u001b[1;33m=\u001b[0m\u001b[0mdf\u001b[0m\u001b[1;33m.\u001b[0m\u001b[0mindex\u001b[0m\u001b[1;33m)\u001b[0m\u001b[1;33m\u001b[0m\u001b[0m\n\u001b[1;32m----> 6\u001b[1;33m     \u001b[1;32mfor\u001b[0m \u001b[0mi\u001b[0m\u001b[1;33m,\u001b[0m\u001b[0mans\u001b[0m \u001b[1;32min\u001b[0m \u001b[0menumerate\u001b[0m\u001b[1;33m(\u001b[0m\u001b[0msorted\u001b[0m\u001b[1;33m(\u001b[0m\u001b[0mset\u001b[0m\u001b[1;33m(\u001b[0m\u001b[0mdf\u001b[0m\u001b[1;33m[\u001b[0m\u001b[1;34m'sjt'\u001b[0m\u001b[1;33m+\u001b[0m\u001b[0msjt_n\u001b[0m\u001b[1;33m+\u001b[0m\u001b[1;34m'.SJTRoundUserAnswersString.'\u001b[0m\u001b[1;33m+\u001b[0m\u001b[0mn\u001b[0m\u001b[1;33m]\u001b[0m\u001b[1;33m)\u001b[0m\u001b[1;33m)\u001b[0m\u001b[1;33m)\u001b[0m\u001b[1;33m:\u001b[0m \u001b[1;31m# sorted\u001b[0m\u001b[1;33m\u001b[0m\u001b[0m\n\u001b[0m\u001b[0;32m      7\u001b[0m         \u001b[1;32mif\u001b[0m \u001b[0mans\u001b[0m \u001b[1;32mis\u001b[0m \u001b[1;32mNone\u001b[0m\u001b[1;33m:\u001b[0m\u001b[1;33m\u001b[0m\u001b[0m\n\u001b[0;32m      8\u001b[0m              \u001b[1;32mcontinue\u001b[0m\u001b[1;33m\u001b[0m\u001b[0m\n",
      "\u001b[1;31mTypeError\u001b[0m: '<' not supported between instances of 'str' and 'NoneType'"
     ]
    }
   ],
   "source": [
    "sjt_n = ''\n",
    "for j,col in enumerate(df.columns[df.columns.str.startswith('sjt'+sjt_n+'.SJTRoundUserAnswersString.')]):\n",
    "    n=str.split(col,'sjt'+sjt_n+'.SJTRoundUserAnswersString.')[1]\n",
    "    print('\\n\\n\\n',j+1,':',df['sjt'+sjt_n+'.SJTRoundUserQuestions.'+n][0])\n",
    "    df['SJTRoundUserAnswers'+'_num.'+n] = pd.Series(np.zeros(df.shape[0]), index=df.index)\n",
    "    for i,ans in enumerate(sorted(set(df['sjt'+sjt_n+'.SJTRoundUserAnswersString.'+n]))): # sorted\n",
    "        if ans is None:\n",
    "             continue\n",
    "        if bool(re.match('^[0-9\\.\\-]+$',ans.strip())):\n",
    "             continue                   \n",
    "        df['SJTRoundUserAnswers'+'_num.'+n][df[col]==ans]=i+1\n",
    "        if re.match('^[a-zA-Z,\\._\\- 0-9]*$',ans) is not None:\n",
    "            print(i+1,'-',ans)\n",
    "        else:\n",
    "            print(i+1,'-',ans[::-1])\n",
    "        print(round(len(df[col][df[col]==ans])/len(df[col])*100,1),'%\\n')\n",
    "    if bool(re.match('^[0-9\\.\\-]+$',ans.strip())):\n",
    "        pd.to_numeric(df['sjt'+sjt_n+'.SJTRoundUserAnswersString.'+n]).hist()    \n",
    "    else:\n",
    "        df['SJTRoundUserAnswers'+'_num.'+n].hist()\n",
    "    plt.show()"
   ]
  },
  {
   "cell_type": "code",
   "execution_count": null,
   "metadata": {},
   "outputs": [],
   "source": [
    "sjt_n = '2'\n",
    "for col in df.columns[df.columns.str.startswith('sjt'+sjt_n+'.SJTRoundUserAnswers.')]:\n",
    "    print(col)\n",
    "    n=str.split(col,'sjt'+sjt_n+'.SJTRoundUserAnswers.')[1]\n",
    "    print(df['sjt'+sjt_n+'.SJTRoundUserQuestions.'+n][0])\n",
    "    #print(set(df['sjt2.SJTRoundUserAnswers.'+n]))\n",
    "    for c in set(df['sjt'+sjt_n+'.SJTRoundUserAnswers.'+n]):\n",
    "        if c is None:\n",
    "             continue\n",
    "        elif np.isnan(c):\n",
    "            continue\n",
    "        c_text = df['sjt'+sjt_n+'.SJTRoundUserAnswersString.'+n][df['sjt'+sjt_n+'.SJTRoundUserAnswers.'+n]==c][0]\n",
    "        if re.match('^[a-zA-Z,._\\- 0-9]*$',c_text) is not None:\n",
    "            print(c_text)\n",
    "        else:\n",
    "            print(c,'-',c_text[::-1])#,':',round(sum(df['sjt2.SJTRoundUserAnswers.0']==c)/df.shape[0]*100),'%')\n",
    "    df[col].hist()\n",
    "    plt.show()"
   ]
  },
  {
   "cell_type": "code",
   "execution_count": null,
   "metadata": {},
   "outputs": [],
   "source": []
  }
 ],
 "metadata": {
  "kernelspec": {
   "display_name": "Python 3",
   "language": "python",
   "name": "python3"
  },
  "language_info": {
   "codemirror_mode": {
    "name": "ipython",
    "version": 3
   },
   "file_extension": ".py",
   "mimetype": "text/x-python",
   "name": "python",
   "nbconvert_exporter": "python",
   "pygments_lexer": "ipython3",
   "version": "3.7.0"
  }
 },
 "nbformat": 4,
 "nbformat_minor": 2
}
