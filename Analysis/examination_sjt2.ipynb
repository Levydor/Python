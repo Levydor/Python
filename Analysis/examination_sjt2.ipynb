{
 "cells": [
  {
   "cell_type": "code",
   "execution_count": null,
   "metadata": {},
   "outputs": [],
   "source": [
    "%reset -f"
   ]
  },
  {
   "cell_type": "code",
   "execution_count": 81,
   "metadata": {
    "scrolled": true
   },
   "outputs": [
    {
     "data": {
      "text/html": [
       "<style>.container { width:100% !important; }</style>"
      ],
      "text/plain": [
       "<IPython.core.display.HTML object>"
      ]
     },
     "metadata": {},
     "output_type": "display_data"
    }
   ],
   "source": [
    "from IPython.core.display import display, HTML\n",
    "display(HTML(\"<style>.container { width:100% !important; }</style>\"))\n",
    "\n",
    "import pandas as pd\n",
    "import numpy as np\n",
    "import matplotlib.pyplot as plt\n",
    "%matplotlib inline\n",
    "import time\n",
    "\n",
    "from sklearn import linear_model\n",
    "from sklearn import metrics\n",
    "from sklearn.model_selection import train_test_split, cross_val_score, cross_validate, RepeatedKFold\n",
    "from math import sqrt\n",
    "from scipy import stats\n",
    "from sklearn import preprocessing\n",
    "from sklearn import ensemble\n",
    "from sklearn.pipeline import Pipeline\n",
    "from sklearn.model_selection import GridSearchCV, learning_curve\n",
    "# import ifsg\n",
    "import json\n",
    "import re\n",
    "import glob, os #I ADDED\n",
    "from sklearn.svm import SVR, LinearSVR #I ADDED\n",
    "from sklearn.tree import DecisionTreeRegressor #I ADDED\n",
    "\n",
    "pd.set_option('display.max_rows', 200)\n",
    "pd.set_option('display.max_columns', 500)\n",
    "#pd.set_option('display.width', 1000)"
   ]
  },
  {
   "cell_type": "code",
   "execution_count": null,
   "metadata": {},
   "outputs": [],
   "source": [
    "x=os.path.splitext(os.path.split(os.path.splitext(os.path.split(os.getcwd())[0])[0])[0])\n",
    "path_dataset=str(x[0])+os.sep+\"Data\"+os.sep+ \"Datasets\"\n",
    "\n",
    "print(path_dataset)"
   ]
  },
  {
   "cell_type": "code",
   "execution_count": 82,
   "metadata": {
    "scrolled": true
   },
   "outputs": [
    {
     "name": "stdout",
     "output_type": "stream",
     "text": [
      "(106, 68)\n",
      "Index(['pzl.site_name.0', 'pzl.stress.3', 'pzl.stress.0', 'pzl.stress.2',\n",
      "       'pzl.stress.1', 'sjt2.SJTRoundUserQuestions.4',\n",
      "       'sjt2.SJTRoundUserAnswers.10', 'sjt2.SJTRoundUserAnswersString.16',\n",
      "       'sjt2.SJTRoundUserAnswers.12', 'sjt2.SJTRoundUserAnswersString.7',\n",
      "       'sjt2.SJTRoundUserAnswersString.19', 'sjt2.SJTRoundUserQuestions.19',\n",
      "       'sjt2.SJTRoundUserAnswers.1', 'sjt2.SJTRoundUserAnswers.17',\n",
      "       'sjt2.SJTRoundUserAnswers.18', 'sjt2.SJTRoundUserAnswersString.5',\n",
      "       'sjt2.SJTRoundUserQuestions.1', 'sjt2.SJTRoundUserQuestions.3',\n",
      "       'sjt2.SJTRoundUserAnswers.13', 'sjt2.SJTRoundUserAnswers.8',\n",
      "       'sjt2.SJTRoundUserAnswers.4', 'sjt2.SJTRoundUserQuestions.2',\n",
      "       'sjt2.SJTRoundUserQuestions.12', 'sjt2.SJTRoundUserAnswers.6',\n",
      "       'sjt2.SJTRoundUserAnswersString.2', 'sjt2.SJTRoundUserQuestions.0',\n",
      "       'sjt2.SJTRoundUserQuestions.18', 'sjt2.SJTRoundUserQuestions.15',\n",
      "       'sjt2.SJTRoundUserAnswers.9', 'sjt2.SJTRoundUserAnswersString.14',\n",
      "       'sjt2.SJTRoundUserQuestions.13', 'sjt2.SJTRoundUserAnswers.15',\n",
      "       'sjt2.SJTRoundUserQuestions.20', 'sjt2.SJTRoundUserAnswersString.6',\n",
      "       'sjt2.SJTRoundUserQuestions.8', 'sjt2.SJTRoundUserAnswersString.17',\n",
      "       'sjt2.SJTRoundUserQuestions.7', 'sjt2.SJTRoundUserAnswersString.11',\n",
      "       'sjt2.SJTRoundUserAnswers.19', 'sjt2.SJTRoundUserAnswersString.18',\n",
      "       'sjt2.SJTRoundUserQuestions.5', 'sjt2.SJTRoundUserAnswersString.8',\n",
      "       'sjt2.SJTRoundUserAnswersString.3', 'sjt2.SJTRoundUserAnswersString.1',\n",
      "       'sjt2.SJTRoundUserAnswers.3', 'sjt2.SJTRoundUserAnswers.20',\n",
      "       'sjt2.SJTRoundUserQuestions.11', 'sjt2.SJTRoundUserQuestions.17',\n",
      "       'sjt2.SJTRoundUserAnswers.14', 'sjt2.SJTRoundUserAnswers.5',\n",
      "       'sjt2.SJTRoundUserAnswersString.0', 'sjt2.SJTRoundUserAnswersString.12',\n",
      "       'sjt2.SJTRoundUserAnswers.7', 'sjt2.SJTRoundUserQuestions.14',\n",
      "       'sjt2.SJTRoundUserAnswersString.10', 'sjt2.SJTRoundUserQuestions.16',\n",
      "       'sjt2.SJTRoundUserAnswers.16', 'sjt2.SJTRoundUserAnswersString.15',\n",
      "       'sjt2.SJTRoundUserAnswersString.9', 'sjt2.SJTRoundUserAnswers.0',\n",
      "       'sjt2.SJTRoundUserQuestions.9', 'sjt2.SJTRoundUserAnswers.2',\n",
      "       'sjt2.SJTRoundUserAnswersString.4', 'sjt2.SJTRoundUserQuestions.6',\n",
      "       'sjt2.SJTRoundUserAnswers.11', 'sjt2.SJTRoundUserQuestions.10',\n",
      "       'sjt2.SJTRoundUserAnswersString.20',\n",
      "       'sjt2.SJTRoundUserAnswersString.13'],\n",
      "      dtype='object')\n"
     ]
    }
   ],
   "source": [
    "file = \"W:\\\\Work\\\\Assense\\\\ML\\\\DataFrames\\\\sjt2_df_14_03_19.json\"\n",
    "with open(file) as train_file:\n",
    "    dict_train = json.load(train_file)\n",
    "sol=[]\n",
    "# converting json dataset from dictionary to dataframe\n",
    "df = pd.DataFrame.from_dict(dict_train)\n",
    "print(df.shape)\n",
    "#df.iloc[[5]]\n",
    "\n",
    "df.head()\n",
    "\n",
    "print(df.columns)"
   ]
  },
  {
   "cell_type": "code",
   "execution_count": 83,
   "metadata": {},
   "outputs": [],
   "source": [
    "import re\n",
    "\n",
    "def atoi(text):\n",
    "    return int(text) if text.isdigit() else text\n",
    "\n",
    "def natural_keys(text):\n",
    "    return [ atoi(c) for c in re.split('(\\d+)', text) ]\n"
   ]
  },
  {
   "cell_type": "code",
   "execution_count": 84,
   "metadata": {},
   "outputs": [
    {
     "data": {
      "text/html": [
       "<div>\n",
       "<style scoped>\n",
       "    .dataframe tbody tr th:only-of-type {\n",
       "        vertical-align: middle;\n",
       "    }\n",
       "\n",
       "    .dataframe tbody tr th {\n",
       "        vertical-align: top;\n",
       "    }\n",
       "\n",
       "    .dataframe thead th {\n",
       "        text-align: right;\n",
       "    }\n",
       "</style>\n",
       "<table border=\"1\" class=\"dataframe\">\n",
       "  <thead>\n",
       "    <tr style=\"text-align: right;\">\n",
       "      <th></th>\n",
       "      <th>sjt2.SJTRoundUserAnswers.0</th>\n",
       "      <th>sjt2.SJTRoundUserAnswers.1</th>\n",
       "      <th>sjt2.SJTRoundUserAnswers.2</th>\n",
       "      <th>sjt2.SJTRoundUserAnswers.3</th>\n",
       "      <th>sjt2.SJTRoundUserAnswers.4</th>\n",
       "      <th>sjt2.SJTRoundUserAnswers.5</th>\n",
       "      <th>sjt2.SJTRoundUserAnswers.6</th>\n",
       "      <th>sjt2.SJTRoundUserAnswers.7</th>\n",
       "      <th>sjt2.SJTRoundUserAnswers.8</th>\n",
       "      <th>sjt2.SJTRoundUserAnswers.9</th>\n",
       "      <th>sjt2.SJTRoundUserAnswers.10</th>\n",
       "      <th>sjt2.SJTRoundUserAnswers.11</th>\n",
       "      <th>sjt2.SJTRoundUserAnswers.12</th>\n",
       "      <th>sjt2.SJTRoundUserAnswers.13</th>\n",
       "      <th>sjt2.SJTRoundUserAnswers.14</th>\n",
       "      <th>sjt2.SJTRoundUserAnswers.15</th>\n",
       "      <th>sjt2.SJTRoundUserAnswers.16</th>\n",
       "      <th>sjt2.SJTRoundUserAnswers.17</th>\n",
       "      <th>sjt2.SJTRoundUserAnswers.18</th>\n",
       "      <th>sjt2.SJTRoundUserAnswers.19</th>\n",
       "      <th>sjt2.SJTRoundUserAnswers.20</th>\n",
       "    </tr>\n",
       "  </thead>\n",
       "  <tbody>\n",
       "    <tr>\n",
       "      <th>00373658</th>\n",
       "      <td>3.0</td>\n",
       "      <td>4.0</td>\n",
       "      <td>4.0</td>\n",
       "      <td>3.0</td>\n",
       "      <td>2.0</td>\n",
       "      <td>4.0</td>\n",
       "      <td>1.0</td>\n",
       "      <td>2.0</td>\n",
       "      <td>6.0</td>\n",
       "      <td>7.0</td>\n",
       "      <td>2.0</td>\n",
       "      <td>4.0</td>\n",
       "      <td>3.0</td>\n",
       "      <td>4.5</td>\n",
       "      <td>2.9</td>\n",
       "      <td>2.5</td>\n",
       "      <td>3.5</td>\n",
       "      <td>1.0</td>\n",
       "      <td>3.0</td>\n",
       "      <td>69.0</td>\n",
       "      <td>90.0</td>\n",
       "    </tr>\n",
       "    <tr>\n",
       "      <th>01348054</th>\n",
       "      <td>2.0</td>\n",
       "      <td>4.0</td>\n",
       "      <td>3.0</td>\n",
       "      <td>3.0</td>\n",
       "      <td>3.0</td>\n",
       "      <td>2.0</td>\n",
       "      <td>1.0</td>\n",
       "      <td>2.0</td>\n",
       "      <td>1.0</td>\n",
       "      <td>1.0</td>\n",
       "      <td>4.0</td>\n",
       "      <td>4.0</td>\n",
       "      <td>2.0</td>\n",
       "      <td>4.1</td>\n",
       "      <td>4.0</td>\n",
       "      <td>1.2</td>\n",
       "      <td>2.1</td>\n",
       "      <td>2.0</td>\n",
       "      <td>3.0</td>\n",
       "      <td>70.0</td>\n",
       "      <td>85.0</td>\n",
       "    </tr>\n",
       "    <tr>\n",
       "      <th>02718050</th>\n",
       "      <td>3.0</td>\n",
       "      <td>2.0</td>\n",
       "      <td>3.0</td>\n",
       "      <td>3.0</td>\n",
       "      <td>4.0</td>\n",
       "      <td>2.0</td>\n",
       "      <td>1.0</td>\n",
       "      <td>1.0</td>\n",
       "      <td>4.0</td>\n",
       "      <td>4.0</td>\n",
       "      <td>2.0</td>\n",
       "      <td>2.0</td>\n",
       "      <td>3.0</td>\n",
       "      <td>3.0</td>\n",
       "      <td>3.9</td>\n",
       "      <td>2.0</td>\n",
       "      <td>2.0</td>\n",
       "      <td>3.0</td>\n",
       "      <td>4.0</td>\n",
       "      <td>41.0</td>\n",
       "      <td>92.0</td>\n",
       "    </tr>\n",
       "    <tr>\n",
       "      <th>04269150</th>\n",
       "      <td>4.0</td>\n",
       "      <td>1.0</td>\n",
       "      <td>3.0</td>\n",
       "      <td>2.0</td>\n",
       "      <td>2.0</td>\n",
       "      <td>2.0</td>\n",
       "      <td>1.0</td>\n",
       "      <td>1.0</td>\n",
       "      <td>4.0</td>\n",
       "      <td>4.0</td>\n",
       "      <td>6.0</td>\n",
       "      <td>4.0</td>\n",
       "      <td>3.0</td>\n",
       "      <td>4.5</td>\n",
       "      <td>4.5</td>\n",
       "      <td>2.2</td>\n",
       "      <td>3.7</td>\n",
       "      <td>1.0</td>\n",
       "      <td>4.0</td>\n",
       "      <td>100.0</td>\n",
       "      <td>100.0</td>\n",
       "    </tr>\n",
       "    <tr>\n",
       "      <th>04395124</th>\n",
       "      <td>2.0</td>\n",
       "      <td>1.0</td>\n",
       "      <td>3.0</td>\n",
       "      <td>1.0</td>\n",
       "      <td>2.0</td>\n",
       "      <td>3.0</td>\n",
       "      <td>1.0</td>\n",
       "      <td>4.0</td>\n",
       "      <td>4.0</td>\n",
       "      <td>4.0</td>\n",
       "      <td>2.0</td>\n",
       "      <td>4.0</td>\n",
       "      <td>3.0</td>\n",
       "      <td>4.6</td>\n",
       "      <td>1.8</td>\n",
       "      <td>1.8</td>\n",
       "      <td>2.3</td>\n",
       "      <td>3.0</td>\n",
       "      <td>4.0</td>\n",
       "      <td>86.0</td>\n",
       "      <td>75.0</td>\n",
       "    </tr>\n",
       "  </tbody>\n",
       "</table>\n",
       "</div>"
      ],
      "text/plain": [
       "          sjt2.SJTRoundUserAnswers.0  sjt2.SJTRoundUserAnswers.1  \\\n",
       "00373658                         3.0                         4.0   \n",
       "01348054                         2.0                         4.0   \n",
       "02718050                         3.0                         2.0   \n",
       "04269150                         4.0                         1.0   \n",
       "04395124                         2.0                         1.0   \n",
       "\n",
       "          sjt2.SJTRoundUserAnswers.2  sjt2.SJTRoundUserAnswers.3  \\\n",
       "00373658                         4.0                         3.0   \n",
       "01348054                         3.0                         3.0   \n",
       "02718050                         3.0                         3.0   \n",
       "04269150                         3.0                         2.0   \n",
       "04395124                         3.0                         1.0   \n",
       "\n",
       "          sjt2.SJTRoundUserAnswers.4  sjt2.SJTRoundUserAnswers.5  \\\n",
       "00373658                         2.0                         4.0   \n",
       "01348054                         3.0                         2.0   \n",
       "02718050                         4.0                         2.0   \n",
       "04269150                         2.0                         2.0   \n",
       "04395124                         2.0                         3.0   \n",
       "\n",
       "          sjt2.SJTRoundUserAnswers.6  sjt2.SJTRoundUserAnswers.7  \\\n",
       "00373658                         1.0                         2.0   \n",
       "01348054                         1.0                         2.0   \n",
       "02718050                         1.0                         1.0   \n",
       "04269150                         1.0                         1.0   \n",
       "04395124                         1.0                         4.0   \n",
       "\n",
       "          sjt2.SJTRoundUserAnswers.8  sjt2.SJTRoundUserAnswers.9  \\\n",
       "00373658                         6.0                         7.0   \n",
       "01348054                         1.0                         1.0   \n",
       "02718050                         4.0                         4.0   \n",
       "04269150                         4.0                         4.0   \n",
       "04395124                         4.0                         4.0   \n",
       "\n",
       "          sjt2.SJTRoundUserAnswers.10  sjt2.SJTRoundUserAnswers.11  \\\n",
       "00373658                          2.0                          4.0   \n",
       "01348054                          4.0                          4.0   \n",
       "02718050                          2.0                          2.0   \n",
       "04269150                          6.0                          4.0   \n",
       "04395124                          2.0                          4.0   \n",
       "\n",
       "          sjt2.SJTRoundUserAnswers.12  sjt2.SJTRoundUserAnswers.13  \\\n",
       "00373658                          3.0                          4.5   \n",
       "01348054                          2.0                          4.1   \n",
       "02718050                          3.0                          3.0   \n",
       "04269150                          3.0                          4.5   \n",
       "04395124                          3.0                          4.6   \n",
       "\n",
       "          sjt2.SJTRoundUserAnswers.14  sjt2.SJTRoundUserAnswers.15  \\\n",
       "00373658                          2.9                          2.5   \n",
       "01348054                          4.0                          1.2   \n",
       "02718050                          3.9                          2.0   \n",
       "04269150                          4.5                          2.2   \n",
       "04395124                          1.8                          1.8   \n",
       "\n",
       "          sjt2.SJTRoundUserAnswers.16  sjt2.SJTRoundUserAnswers.17  \\\n",
       "00373658                          3.5                          1.0   \n",
       "01348054                          2.1                          2.0   \n",
       "02718050                          2.0                          3.0   \n",
       "04269150                          3.7                          1.0   \n",
       "04395124                          2.3                          3.0   \n",
       "\n",
       "          sjt2.SJTRoundUserAnswers.18  sjt2.SJTRoundUserAnswers.19  \\\n",
       "00373658                          3.0                         69.0   \n",
       "01348054                          3.0                         70.0   \n",
       "02718050                          4.0                         41.0   \n",
       "04269150                          4.0                        100.0   \n",
       "04395124                          4.0                         86.0   \n",
       "\n",
       "          sjt2.SJTRoundUserAnswers.20  \n",
       "00373658                         90.0  \n",
       "01348054                         85.0  \n",
       "02718050                         92.0  \n",
       "04269150                        100.0  \n",
       "04395124                         75.0  "
      ]
     },
     "execution_count": 84,
     "metadata": {},
     "output_type": "execute_result"
    }
   ],
   "source": [
    "# new version grades\n",
    "sol = []\n",
    "for col in list(df.columns):\n",
    "    if re.search(\"sjt2\\.SJTRoundUserAnswers\\..*\", col):\n",
    "        sol.append(col)\n",
    "\n",
    "sol.sort(key=natural_keys)\n",
    "       \n",
    "df1= df[sol]\n",
    "\n",
    "df1.head()                       \n"
   ]
  },
  {
   "cell_type": "code",
   "execution_count": 87,
   "metadata": {},
   "outputs": [
    {
     "data": {
      "text/plain": [
       "<Figure size 1440x2160 with 0 Axes>"
      ]
     },
     "metadata": {},
     "output_type": "display_data"
    }
   ],
   "source": [
    "plt.figure(figsize=(20,30))\n",
    "# new version grades\n",
    "q = []\n",
    "for col in list(df.columns):\n",
    "    if re.search(\"sjt2\\.SJTRoundUserQuestions\\..*\", col):\n",
    "        q.append(col)\n",
    "\n",
    "q.sort(key=natural_keys)  \n",
    "df2= df[q]\n",
    "# print(df2)\n",
    "# for col in df2.columns:\n",
    "#     print(col)\n",
    "#     df2[col].hist()\n",
    "#     plt.show()"
   ]
  },
  {
   "cell_type": "code",
   "execution_count": 90,
   "metadata": {},
   "outputs": [
    {
     "name": "stdout",
     "output_type": "stream",
     "text": [
      "sjt2.SJTRoundUserAnswers.0\n"
     ]
    },
    {
     "data": {
      "image/png": "[encoded data removed]",
      "text/plain": [
       "<Figure size 432x288 with 1 Axes>"
      ]
     },
     "metadata": {
      "needs_background": "light"
     },
     "output_type": "display_data"
    },
    {
     "name": "stdout",
     "output_type": "stream",
     "text": [
      "sjt2.SJTRoundUserAnswers.1\n"
     ]
    },
    {
     "data": {
      "image/png": "[encoded data removed]",
      "text/plain": [
       "<Figure size 432x288 with 1 Axes>"
      ]
     },
     "metadata": {
      "needs_background": "light"
     },
     "output_type": "display_data"
    },
    {
     "name": "stdout",
     "output_type": "stream",
     "text": [
      "sjt2.SJTRoundUserAnswers.2\n"
     ]
    },
    {
     "data": {
      "image/png": "[encoded data removed]",
      "text/plain": [
       "<Figure size 432x288 with 1 Axes>"
      ]
     },
     "metadata": {
      "needs_background": "light"
     },
     "output_type": "display_data"
    },
    {
     "name": "stdout",
     "output_type": "stream",
     "text": [
      "sjt2.SJTRoundUserAnswers.3\n"
     ]
    },
    {
     "data": {
      "image/png": "[encoded data removed]",
      "text/plain": [
       "<Figure size 432x288 with 1 Axes>"
      ]
     },
     "metadata": {
      "needs_background": "light"
     },
     "output_type": "display_data"
    },
    {
     "name": "stdout",
     "output_type": "stream",
     "text": [
      "sjt2.SJTRoundUserAnswers.4\n"
     ]
    },
    {
     "data": {
      "image/png": "[encoded data removed]",
      "text/plain": [
       "<Figure size 432x288 with 1 Axes>"
      ]
     },
     "metadata": {
      "needs_background": "light"
     },
     "output_type": "display_data"
    },
    {
     "name": "stdout",
     "output_type": "stream",
     "text": [
      "sjt2.SJTRoundUserAnswers.5\n"
     ]
    },
    {
     "data": {
      "image/png": "[encoded data removed]",
      "text/plain": [
       "<Figure size 432x288 with 1 Axes>"
      ]
     },
     "metadata": {
      "needs_background": "light"
     },
     "output_type": "display_data"
    },
    {
     "name": "stdout",
     "output_type": "stream",
     "text": [
      "sjt2.SJTRoundUserAnswers.6\n"
     ]
    },
    {
     "data": {
      "image/png": "[encoded data removed]",
      "text/plain": [
       "<Figure size 432x288 with 1 Axes>"
      ]
     },
     "metadata": {
      "needs_background": "light"
     },
     "output_type": "display_data"
    },
    {
     "name": "stdout",
     "output_type": "stream",
     "text": [
      "sjt2.SJTRoundUserAnswers.7\n"
     ]
    },
    {
     "data": {
      "image/png": "[encoded data removed]",
      "text/plain": [
       "<Figure size 432x288 with 1 Axes>"
      ]
     },
     "metadata": {
      "needs_background": "light"
     },
     "output_type": "display_data"
    },
    {
     "name": "stdout",
     "output_type": "stream",
     "text": [
      "sjt2.SJTRoundUserAnswers.8\n"
     ]
    },
    {
     "data": {
      "image/png": "[encoded data removed]",
      "text/plain": [
       "<Figure size 432x288 with 1 Axes>"
      ]
     },
     "metadata": {
      "needs_background": "light"
     },
     "output_type": "display_data"
    },
    {
     "name": "stdout",
     "output_type": "stream",
     "text": [
      "sjt2.SJTRoundUserAnswers.9\n"
     ]
    },
    {
     "data": {
      "image/png": "[encoded data removed]",
      "text/plain": [
       "<Figure size 432x288 with 1 Axes>"
      ]
     },
     "metadata": {
      "needs_background": "light"
     },
     "output_type": "display_data"
    },
    {
     "name": "stdout",
     "output_type": "stream",
     "text": [
      "sjt2.SJTRoundUserAnswers.10\n"
     ]
    },
    {
     "data": {
      "image/png": "[encoded data removed]",
      "text/plain": [
       "<Figure size 432x288 with 1 Axes>"
      ]
     },
     "metadata": {
      "needs_background": "light"
     },
     "output_type": "display_data"
    },
    {
     "name": "stdout",
     "output_type": "stream",
     "text": [
      "sjt2.SJTRoundUserAnswers.11\n"
     ]
    },
    {
     "data": {
      "image/png": "[encoded data removed]",
      "text/plain": [
       "<Figure size 432x288 with 1 Axes>"
      ]
     },
     "metadata": {
      "needs_background": "light"
     },
     "output_type": "display_data"
    },
    {
     "name": "stdout",
     "output_type": "stream",
     "text": [
      "sjt2.SJTRoundUserAnswers.12\n"
     ]
    },
    {
     "data": {
      "image/png": "[encoded data removed]",
      "text/plain": [
       "<Figure size 432x288 with 1 Axes>"
      ]
     },
     "metadata": {
      "needs_background": "light"
     },
     "output_type": "display_data"
    },
    {
     "name": "stdout",
     "output_type": "stream",
     "text": [
      "sjt2.SJTRoundUserAnswers.13\n"
     ]
    },
    {
     "data": {
      "image/png": "[encoded data removed]",
      "text/plain": [
       "<Figure size 432x288 with 1 Axes>"
      ]
     },
     "metadata": {
      "needs_background": "light"
     },
     "output_type": "display_data"
    },
    {
     "name": "stdout",
     "output_type": "stream",
     "text": [
      "sjt2.SJTRoundUserAnswers.14\n"
     ]
    },
    {
     "data": {
      "image/png": "[encoded data removed]",
      "text/plain": [
       "<Figure size 432x288 with 1 Axes>"
      ]
     },
     "metadata": {
      "needs_background": "light"
     },
     "output_type": "display_data"
    },
    {
     "name": "stdout",
     "output_type": "stream",
     "text": [
      "sjt2.SJTRoundUserAnswers.15\n"
     ]
    },
    {
     "data": {
      "image/png": "[encoded data removed]",
      "text/plain": [
       "<Figure size 432x288 with 1 Axes>"
      ]
     },
     "metadata": {
      "needs_background": "light"
     },
     "output_type": "display_data"
    },
    {
     "name": "stdout",
     "output_type": "stream",
     "text": [
      "sjt2.SJTRoundUserAnswers.16\n"
     ]
    },
    {
     "data": {
      "image/png": "[encoded data removed]",
      "text/plain": [
       "<Figure size 432x288 with 1 Axes>"
      ]
     },
     "metadata": {
      "needs_background": "light"
     },
     "output_type": "display_data"
    },
    {
     "name": "stdout",
     "output_type": "stream",
     "text": [
      "sjt2.SJTRoundUserAnswers.17\n"
     ]
    },
    {
     "data": {
      "image/png": "[encoded data removed]",
      "text/plain": [
       "<Figure size 432x288 with 1 Axes>"
      ]
     },
     "metadata": {
      "needs_background": "light"
     },
     "output_type": "display_data"
    },
    {
     "name": "stdout",
     "output_type": "stream",
     "text": [
      "sjt2.SJTRoundUserAnswers.18\n"
     ]
    },
    {
     "data": {
      "image/png": "[encoded data removed]",
      "text/plain": [
       "<Figure size 432x288 with 1 Axes>"
      ]
     },
     "metadata": {
      "needs_background": "light"
     },
     "output_type": "display_data"
    },
    {
     "name": "stdout",
     "output_type": "stream",
     "text": [
      "sjt2.SJTRoundUserAnswers.19\n"
     ]
    },
    {
     "data": {
      "image/png": "[encoded data removed]",
      "text/plain": [
       "<Figure size 432x288 with 1 Axes>"
      ]
     },
     "metadata": {
      "needs_background": "light"
     },
     "output_type": "display_data"
    },
    {
     "name": "stdout",
     "output_type": "stream",
     "text": [
      "sjt2.SJTRoundUserAnswers.20\n"
     ]
    },
    {
     "data": {
      "image/png": "[encoded data removed]",
      "text/plain": [
       "<Figure size 432x288 with 1 Axes>"
      ]
     },
     "metadata": {
      "needs_background": "light"
     },
     "output_type": "display_data"
    }
   ],
   "source": [
    "# answers scores\n",
    "for col in df1.columns:\n",
    "    print(col)\n",
    "    df1[col].hist(bins =5)\n",
    "    plt.show()"
   ]
  },
  {
   "cell_type": "code",
   "execution_count": null,
   "metadata": {},
   "outputs": [],
   "source": []
  },
  {
   "cell_type": "code",
   "execution_count": null,
   "metadata": {},
   "outputs": [],
   "source": []
  },
  {
   "cell_type": "code",
   "execution_count": null,
   "metadata": {},
   "outputs": [],
   "source": []
  }
 ],
 "metadata": {
  "kernelspec": {
   "display_name": "Python 3",
   "language": "python",
   "name": "python3"
  },
  "language_info": {
   "codemirror_mode": {
    "name": "ipython",
    "version": 3
   },
   "file_extension": ".py",
   "mimetype": "text/x-python",
   "name": "python",
   "nbconvert_exporter": "python",
   "pygments_lexer": "ipython3",
   "version": "3.7.0"
  }
 },
 "nbformat": 4,
 "nbformat_minor": 2
}
